{
  "nbformat": 4,
  "nbformat_minor": 0,
  "metadata": {
    "colab": {
      "name": "DataScience.ipynb",
      "provenance": [],
      "collapsed_sections": [
        "duqZgXngdrQY"
      ]
    },
    "kernelspec": {
      "name": "python3",
      "display_name": "Python 3"
    },
    "accelerator": "GPU"
  },
  "cells": [
    {
      "cell_type": "code",
      "metadata": {
        "id": "to9_UbhNdvtp",
        "colab": {
          "base_uri": "https://localhost:8080/"
        },
        "outputId": "8f38907c-f5c1-4343-b130-5b5eebca733a"
      },
      "source": [
        "!pip install underthesea==1.2.1"
      ],
      "execution_count": null,
      "outputs": [
        {
          "output_type": "stream",
          "text": [
            "Collecting underthesea==1.2.1\n",
            "\u001b[?25l  Downloading https://files.pythonhosted.org/packages/10/d1/f86af83ebf510d4ae6ea953bd1ea2751243d03e16f779aaca2d872a7605e/underthesea-1.2.1-py3-none-any.whl (7.5MB)\n",
            "\u001b[K     |████████████████████████████████| 7.5MB 7.7MB/s \n",
            "\u001b[?25hRequirement already satisfied: joblib in /usr/local/lib/python3.6/dist-packages (from underthesea==1.2.1) (1.0.0)\n",
            "Requirement already satisfied: requests in /usr/local/lib/python3.6/dist-packages (from underthesea==1.2.1) (2.23.0)\n",
            "Requirement already satisfied: Click>=6.0 in /usr/local/lib/python3.6/dist-packages (from underthesea==1.2.1) (7.1.2)\n",
            "Requirement already satisfied: tqdm in /usr/local/lib/python3.6/dist-packages (from underthesea==1.2.1) (4.41.1)\n",
            "Requirement already satisfied: tabulate in /usr/local/lib/python3.6/dist-packages (from underthesea==1.2.1) (0.8.7)\n",
            "Collecting scikit-learn<0.22,>=0.20\n",
            "\u001b[?25l  Downloading https://files.pythonhosted.org/packages/a0/c5/d2238762d780dde84a20b8c761f563fe882b88c5a5fb03c056547c442a19/scikit_learn-0.21.3-cp36-cp36m-manylinux1_x86_64.whl (6.7MB)\n",
            "\u001b[K     |████████████████████████████████| 6.7MB 28.2MB/s \n",
            "\u001b[?25hCollecting nltk<3.5,>=3.4\n",
            "\u001b[?25l  Downloading https://files.pythonhosted.org/packages/f6/1d/d925cfb4f324ede997f6d47bea4d9babba51b49e87a767c170b77005889d/nltk-3.4.5.zip (1.5MB)\n",
            "\u001b[K     |████████████████████████████████| 1.5MB 59.8MB/s \n",
            "\u001b[?25hCollecting python-crfsuite>=0.9.6\n",
            "\u001b[?25l  Downloading https://files.pythonhosted.org/packages/95/99/869dde6dbf3e0d07a013c8eebfb0a3d30776334e0097f8432b631a9a3a19/python_crfsuite-0.9.7-cp36-cp36m-manylinux1_x86_64.whl (743kB)\n",
            "\u001b[K     |████████████████████████████████| 747kB 50.5MB/s \n",
            "\u001b[?25hCollecting unidecode\n",
            "\u001b[?25l  Downloading https://files.pythonhosted.org/packages/74/65/91eab655041e9e92f948cb7302e54962035762ce7b518272ed9d6b269e93/Unidecode-1.1.2-py2.py3-none-any.whl (239kB)\n",
            "\u001b[K     |████████████████████████████████| 245kB 57.4MB/s \n",
            "\u001b[?25hRequirement already satisfied: certifi>=2017.4.17 in /usr/local/lib/python3.6/dist-packages (from requests->underthesea==1.2.1) (2020.12.5)\n",
            "Requirement already satisfied: urllib3!=1.25.0,!=1.25.1,<1.26,>=1.21.1 in /usr/local/lib/python3.6/dist-packages (from requests->underthesea==1.2.1) (1.24.3)\n",
            "Requirement already satisfied: idna<3,>=2.5 in /usr/local/lib/python3.6/dist-packages (from requests->underthesea==1.2.1) (2.10)\n",
            "Requirement already satisfied: chardet<4,>=3.0.2 in /usr/local/lib/python3.6/dist-packages (from requests->underthesea==1.2.1) (3.0.4)\n",
            "Requirement already satisfied: scipy>=0.17.0 in /usr/local/lib/python3.6/dist-packages (from scikit-learn<0.22,>=0.20->underthesea==1.2.1) (1.4.1)\n",
            "Requirement already satisfied: numpy>=1.11.0 in /usr/local/lib/python3.6/dist-packages (from scikit-learn<0.22,>=0.20->underthesea==1.2.1) (1.19.4)\n",
            "Requirement already satisfied: six in /usr/local/lib/python3.6/dist-packages (from nltk<3.5,>=3.4->underthesea==1.2.1) (1.15.0)\n",
            "Building wheels for collected packages: nltk\n",
            "  Building wheel for nltk (setup.py) ... \u001b[?25l\u001b[?25hdone\n",
            "  Created wheel for nltk: filename=nltk-3.4.5-cp36-none-any.whl size=1449907 sha256=a2f2d9d73ab4d212da9fa340b1a697937e893026ca300647b52d061ea973a7b9\n",
            "  Stored in directory: /root/.cache/pip/wheels/96/86/f6/68ab24c23f207c0077381a5e3904b2815136b879538a24b483\n",
            "Successfully built nltk\n",
            "Installing collected packages: scikit-learn, nltk, python-crfsuite, unidecode, underthesea\n",
            "  Found existing installation: scikit-learn 0.22.2.post1\n",
            "    Uninstalling scikit-learn-0.22.2.post1:\n",
            "      Successfully uninstalled scikit-learn-0.22.2.post1\n",
            "  Found existing installation: nltk 3.2.5\n",
            "    Uninstalling nltk-3.2.5:\n",
            "      Successfully uninstalled nltk-3.2.5\n",
            "Successfully installed nltk-3.4.5 python-crfsuite-0.9.7 scikit-learn-0.21.3 underthesea-1.2.1 unidecode-1.1.2\n"
          ],
          "name": "stdout"
        }
      ]
    },
    {
      "cell_type": "code",
      "metadata": {
        "id": "kgPwQEpI2BVs"
      },
      "source": [
        "import pandas as pd\n",
        "import matplotlib.pyplot as plt\n",
        "from google.colab import files\n",
        "from underthesea import word_tokenize"
      ],
      "execution_count": null,
      "outputs": []
    },
    {
      "cell_type": "markdown",
      "metadata": {
        "id": "duqZgXngdrQY"
      },
      "source": [
        "# Phân tích dữ liệu"
      ]
    },
    {
      "cell_type": "code",
      "metadata": {
        "colab": {
          "resources": {
            "http://localhost:8080/nbextensions/google.colab/files.js": {
              "data": "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",
              "ok": true,
              "headers": [
                [
                  "content-type",
                  "application/javascript"
                ]
              ],
              "status": 200,
              "status_text": ""
            }
          },
          "base_uri": "https://localhost:8080/",
          "height": 327
        },
        "id": "757KXPzb2GAO",
        "outputId": "767e9c64-52da-41aa-dbeb-e0fb78e459f6"
      },
      "source": [
        "up = files.upload()"
      ],
      "execution_count": null,
      "outputs": [
        {
          "output_type": "display_data",
          "data": {
            "text/html": [
              "\n",
              "     <input type=\"file\" id=\"files-e36e4ab5-f8c5-4715-94ed-51f60b318ea0\" name=\"files[]\" multiple disabled\n",
              "        style=\"border:none\" />\n",
              "     <output id=\"result-e36e4ab5-f8c5-4715-94ed-51f60b318ea0\">\n",
              "      Upload widget is only available when the cell has been executed in the\n",
              "      current browser session. Please rerun this cell to enable.\n",
              "      </output>\n",
              "      <script src=\"/nbextensions/google.colab/files.js\"></script> "
            ],
            "text/plain": [
              "<IPython.core.display.HTML object>"
            ]
          },
          "metadata": {
            "tags": []
          }
        },
        {
          "output_type": "error",
          "ename": "KeyboardInterrupt",
          "evalue": "ignored",
          "traceback": [
            "\u001b[0;31m---------------------------------------------------------------------------\u001b[0m",
            "\u001b[0;31mKeyboardInterrupt\u001b[0m                         Traceback (most recent call last)",
            "\u001b[0;32m<ipython-input-3-05ad54281388>\u001b[0m in \u001b[0;36m<module>\u001b[0;34m()\u001b[0m\n\u001b[0;32m----> 1\u001b[0;31m \u001b[0mup\u001b[0m \u001b[0;34m=\u001b[0m \u001b[0mfiles\u001b[0m\u001b[0;34m.\u001b[0m\u001b[0mupload\u001b[0m\u001b[0;34m(\u001b[0m\u001b[0;34m)\u001b[0m\u001b[0;34m\u001b[0m\u001b[0;34m\u001b[0m\u001b[0m\n\u001b[0m",
            "\u001b[0;32m/usr/local/lib/python3.6/dist-packages/google/colab/files.py\u001b[0m in \u001b[0;36mupload\u001b[0;34m()\u001b[0m\n\u001b[1;32m     62\u001b[0m   result = _output.eval_js(\n\u001b[1;32m     63\u001b[0m       'google.colab._files._uploadFiles(\"{input_id}\", \"{output_id}\")'.format(\n\u001b[0;32m---> 64\u001b[0;31m           input_id=input_id, output_id=output_id))\n\u001b[0m\u001b[1;32m     65\u001b[0m   \u001b[0mfiles\u001b[0m \u001b[0;34m=\u001b[0m \u001b[0m_collections\u001b[0m\u001b[0;34m.\u001b[0m\u001b[0mdefaultdict\u001b[0m\u001b[0;34m(\u001b[0m\u001b[0m_six\u001b[0m\u001b[0;34m.\u001b[0m\u001b[0mbinary_type\u001b[0m\u001b[0;34m)\u001b[0m\u001b[0;34m\u001b[0m\u001b[0;34m\u001b[0m\u001b[0m\n\u001b[1;32m     66\u001b[0m   \u001b[0;31m# Mapping from original filename to filename as saved locally.\u001b[0m\u001b[0;34m\u001b[0m\u001b[0;34m\u001b[0m\u001b[0;34m\u001b[0m\u001b[0m\n",
            "\u001b[0;32m/usr/local/lib/python3.6/dist-packages/google/colab/output/_js.py\u001b[0m in \u001b[0;36meval_js\u001b[0;34m(script, ignore_result)\u001b[0m\n\u001b[1;32m     37\u001b[0m   \u001b[0;32mif\u001b[0m \u001b[0mignore_result\u001b[0m\u001b[0;34m:\u001b[0m\u001b[0;34m\u001b[0m\u001b[0;34m\u001b[0m\u001b[0m\n\u001b[1;32m     38\u001b[0m     \u001b[0;32mreturn\u001b[0m\u001b[0;34m\u001b[0m\u001b[0;34m\u001b[0m\u001b[0m\n\u001b[0;32m---> 39\u001b[0;31m   \u001b[0;32mreturn\u001b[0m \u001b[0m_message\u001b[0m\u001b[0;34m.\u001b[0m\u001b[0mread_reply_from_input\u001b[0m\u001b[0;34m(\u001b[0m\u001b[0mrequest_id\u001b[0m\u001b[0;34m)\u001b[0m\u001b[0;34m\u001b[0m\u001b[0;34m\u001b[0m\u001b[0m\n\u001b[0m\u001b[1;32m     40\u001b[0m \u001b[0;34m\u001b[0m\u001b[0m\n\u001b[1;32m     41\u001b[0m \u001b[0;34m\u001b[0m\u001b[0m\n",
            "\u001b[0;32m/usr/local/lib/python3.6/dist-packages/google/colab/_message.py\u001b[0m in \u001b[0;36mread_reply_from_input\u001b[0;34m(message_id, timeout_sec)\u001b[0m\n\u001b[1;32m     99\u001b[0m     \u001b[0mreply\u001b[0m \u001b[0;34m=\u001b[0m \u001b[0m_read_next_input_message\u001b[0m\u001b[0;34m(\u001b[0m\u001b[0;34m)\u001b[0m\u001b[0;34m\u001b[0m\u001b[0;34m\u001b[0m\u001b[0m\n\u001b[1;32m    100\u001b[0m     \u001b[0;32mif\u001b[0m \u001b[0mreply\u001b[0m \u001b[0;34m==\u001b[0m \u001b[0m_NOT_READY\u001b[0m \u001b[0;32mor\u001b[0m \u001b[0;32mnot\u001b[0m \u001b[0misinstance\u001b[0m\u001b[0;34m(\u001b[0m\u001b[0mreply\u001b[0m\u001b[0;34m,\u001b[0m \u001b[0mdict\u001b[0m\u001b[0;34m)\u001b[0m\u001b[0;34m:\u001b[0m\u001b[0;34m\u001b[0m\u001b[0;34m\u001b[0m\u001b[0m\n\u001b[0;32m--> 101\u001b[0;31m       \u001b[0mtime\u001b[0m\u001b[0;34m.\u001b[0m\u001b[0msleep\u001b[0m\u001b[0;34m(\u001b[0m\u001b[0;36m0.025\u001b[0m\u001b[0;34m)\u001b[0m\u001b[0;34m\u001b[0m\u001b[0;34m\u001b[0m\u001b[0m\n\u001b[0m\u001b[1;32m    102\u001b[0m       \u001b[0;32mcontinue\u001b[0m\u001b[0;34m\u001b[0m\u001b[0;34m\u001b[0m\u001b[0m\n\u001b[1;32m    103\u001b[0m     if (reply.get('type') == 'colab_reply' and\n",
            "\u001b[0;31mKeyboardInterrupt\u001b[0m: "
          ]
        }
      ]
    },
    {
      "cell_type": "code",
      "metadata": {
        "id": "iL_AYXxU3E72"
      },
      "source": [
        "names = []\n",
        "values = []\n",
        "temp = []\n",
        "\n",
        "csv1 = pd.read_csv(\"data_post_non_reac.csv\")\n",
        "for i in csv1[\"text\"]:\n",
        "  r = str(i).split()\n",
        "  l = len(r)\n",
        "  temp.append(l)\n",
        "  if names.count(l)==0:\n",
        "    names.append(l)\n",
        "names = sorted(names)\n",
        "print((names))\n",
        "\n",
        "for i in range(len(names)):\n",
        "  values.append(temp.count(names[i]))\n",
        "c=0\n",
        "print((values))\n",
        "for i in range(len(names)):\n",
        "  if names[i]<=50:\n",
        "    c = c+1\n",
        "print(c)\n",
        "plt.figure(figsize=(20, 3))\n",
        "plt.subplot(131)\n",
        "plt.bar(names, values)\n"
      ],
      "execution_count": null,
      "outputs": []
    },
    {
      "cell_type": "code",
      "metadata": {
        "id": "hxbe8DHz93s-"
      },
      "source": [
        "\n",
        "csv1 = pd.read_csv(\"data_post_reac.csv\")\n",
        "\n",
        "names = []\n",
        "values = []\n",
        "temp = []\n",
        "for i in csv1[\"text\"]:\n",
        "  r = str(i).split()\n",
        "  l = len(r)\n",
        "  temp.append(l)\n",
        "  if names.count(l)==0:\n",
        "    names.append(l)\n",
        "names = sorted(names)\n",
        "print((names))\n",
        "\n",
        "for i in range(len(names)):\n",
        "  values.append(temp.count(names[i]))\n",
        "c=0\n",
        "print((values))\n",
        "for i in range(len(names)):\n",
        "  if names[i]<=50:\n",
        "    c = c+1\n",
        "print(c)\n",
        "plt.plot(names,values)\n"
      ],
      "execution_count": null,
      "outputs": []
    },
    {
      "cell_type": "code",
      "metadata": {
        "id": "gLAPVPomAZhl"
      },
      "source": [
        "\n",
        "csv1 = pd.read_csv(\"data_comment_reac.csv\")\n",
        "\n",
        "names = []\n",
        "values = []\n",
        "temp = []\n",
        "for i in csv1[\"text\"]:\n",
        "  r = str(i).split()\n",
        "  l = len(r)\n",
        "  temp.append(l)\n",
        "  if names.count(l)==0:\n",
        "    names.append(l)\n",
        "names = sorted(names)\n",
        "print((names))\n",
        "\n",
        "for i in range(len(names)):\n",
        "  values.append(temp.count(names[i]))\n",
        "c=0\n",
        "print((values))\n",
        "for i in range(len(names)):\n",
        "  if names[i]<=50:\n",
        "    c = c+1\n",
        "print(c)\n",
        "plt.plot(names,values)\n"
      ],
      "execution_count": null,
      "outputs": []
    },
    {
      "cell_type": "code",
      "metadata": {
        "id": "bC1ymwNGAp9U"
      },
      "source": [
        "\n",
        "csv1 = pd.read_csv(\"data_comment_non_reac.csv\")\n",
        "\n",
        "names = []\n",
        "values = []\n",
        "temp = []\n",
        "for i in csv1[\"text\"]:\n",
        "  r = str(i).split()\n",
        "  l = len(r)\n",
        "  temp.append(l)\n",
        "  if names.count(l)==0:\n",
        "    names.append(l)\n",
        "names = sorted(names)\n",
        "print((names))\n",
        "\n",
        "for i in range(len(names)):\n",
        "  values.append(temp.count(names[i]))\n",
        "c=0\n",
        "print((values))\n",
        "for i in range(len(names)):\n",
        "  if names[i]<=50:\n",
        "    c = c+1\n",
        "print(c)\n",
        "plt.plot(names,values)\n"
      ],
      "execution_count": null,
      "outputs": []
    },
    {
      "cell_type": "markdown",
      "metadata": {
        "id": "qCk5QTr1dshf"
      },
      "source": [
        "# PRE PROCESSING"
      ]
    },
    {
      "cell_type": "code",
      "metadata": {
        "id": "UaSRaeHKdzTA",
        "colab": {
          "resources": {
            "http://localhost:8080/nbextensions/google.colab/files.js": {
              "data": "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",
              "ok": true,
              "headers": [
                [
                  "content-type",
                  "application/javascript"
                ]
              ],
              "status": 200,
              "status_text": ""
            }
          },
          "base_uri": "https://localhost:8080/",
          "height": 72
        },
        "outputId": "b9fbb34e-b53f-46ce-9b72-9550b8a5647b"
      },
      "source": [
        "up = files.upload()"
      ],
      "execution_count": null,
      "outputs": [
        {
          "output_type": "display_data",
          "data": {
            "text/html": [
              "\n",
              "     <input type=\"file\" id=\"files-c4a48ddf-badd-49ba-a1f1-998e5c4b13ac\" name=\"files[]\" multiple disabled\n",
              "        style=\"border:none\" />\n",
              "     <output id=\"result-c4a48ddf-badd-49ba-a1f1-998e5c4b13ac\">\n",
              "      Upload widget is only available when the cell has been executed in the\n",
              "      current browser session. Please rerun this cell to enable.\n",
              "      </output>\n",
              "      <script src=\"/nbextensions/google.colab/files.js\"></script> "
            ],
            "text/plain": [
              "<IPython.core.display.HTML object>"
            ]
          },
          "metadata": {
            "tags": []
          }
        },
        {
          "output_type": "stream",
          "text": [
            "Saving final.csv to final.csv\n"
          ],
          "name": "stdout"
        }
      ]
    },
    {
      "cell_type": "code",
      "metadata": {
        "colab": {
          "base_uri": "https://localhost:8080/"
        },
        "id": "_IoBAJDreWDo",
        "outputId": "6ae6bd69-0e58-48e5-abae-fd77d95973ef"
      },
      "source": [
        "df = pd.read_csv(\"final.csv\")\n",
        "df = df.dropna().reset_index(drop=True)\n",
        "print(df)"
      ],
      "execution_count": null,
      "outputs": [
        {
          "output_type": "stream",
          "text": [
            "                                                    text           labels\n",
            "0                                    huấn luyện đặc công  không phản động\n",
            "1        đời lính là những kỉ niệm khó có thể quên được   không phản động\n",
            "2      phát hiện 1 quả dân chủ nặng 340kg tại 15 cửa ...  không phản động\n",
            "3      cảm giác của các đồng chí khi gặp tình huống này   không phản động\n",
            "4                             cả một bầu trời thương nhớ  không phản động\n",
            "...                                                  ...              ...\n",
            "10020  la vinh anh thì cần gì coi với chả ko còn em m...        phản động\n",
            "10021  mở miệng ra là ba que ba sọccoi lại m đi thằng...        phản động\n",
            "10022  la vinh chơi đồ hả em anh nói mẹ gì 3 đâu mà e...        phản động\n",
            "10023  t vừa check rồi ông tuấn anh và bà ngọc đã đượ...        phản động\n",
            "10024  bình minh nguyễn mở miệng ra là phản động ba s...        phản động\n",
            "\n",
            "[10025 rows x 2 columns]\n"
          ],
          "name": "stdout"
        }
      ]
    },
    {
      "cell_type": "code",
      "metadata": {
        "colab": {
          "base_uri": "https://localhost:8080/"
        },
        "id": "GVQSsRfshVzw",
        "outputId": "392ac658-31e5-40cf-fae7-f53bf67a6be2"
      },
      "source": [
        "# tách từ tiếng việt với underthesea\n",
        "\n",
        "for i in range(len(df['text'])):\n",
        "  df['text'][i]=word_tokenize(df['text'][i], format=\"text\")\n",
        "\n",
        "print(df[\"text\"])"
      ],
      "execution_count": null,
      "outputs": [
        {
          "output_type": "stream",
          "text": [
            "0                                      huấn_luyện đặc_công\n",
            "1           đời lính là những kỉ_niệm khó có_thể quên được\n",
            "2        phát_hiện 1 quả dân_chủ nặng 340kg tại 15 cửa_...\n",
            "3         cảm_giác của các đồng_chí khi gặp tình_huống này\n",
            "4                               cả một bầu_trời thương_nhớ\n",
            "                               ...                        \n",
            "10020    la vinh anh thì cần gì coi với chả ko còn em m...\n",
            "10021    mở miệng ra là ba_que ba sọccoi lại m đi thằng...\n",
            "10022    la vinh chơi đồ hả em anh nói mẹ gì 3 đâu mà e...\n",
            "10023    t vừa check rồi ông tuấn anh và bà ngọc đã đượ...\n",
            "10024    bình_minh nguyễn mở_miệng ra là phản_động ba s...\n",
            "Name: text, Length: 10025, dtype: object\n"
          ],
          "name": "stdout"
        }
      ]
    },
    {
      "cell_type": "code",
      "metadata": {
        "colab": {
          "base_uri": "https://localhost:8080/"
        },
        "id": "W6XGsvlfjz9h",
        "outputId": "c7d7ea45-406f-4a55-b3e8-bb2107e2749b"
      },
      "source": [
        "from keras.preprocessing.text import Tokenizer\n",
        "from keras.preprocessing.sequence import pad_sequences\n",
        "\n",
        "max_fatures = 2000\n",
        "tokenizer = Tokenizer(num_words=max_fatures, split=' ')\n",
        "tokenizer.fit_on_texts(df['text'].values)\n",
        "X = tokenizer.texts_to_sequences(df['text'].values)\n",
        "X = pad_sequences(X)\n",
        "print(X)"
      ],
      "execution_count": null,
      "outputs": [
        {
          "output_type": "stream",
          "text": [
            "[[   0    0    0 ... 1288  744   76]\n",
            " [   0    0    0 ...  115  830   35]\n",
            " [   0    0    0 ...  552  697  217]\n",
            " ...\n",
            " [   0    0    0 ...  902  364   38]\n",
            " [   0    0    0 ... 1794  370  320]\n",
            " [   0    0    0 ...   57  189  531]]\n"
          ],
          "name": "stdout"
        }
      ]
    },
    {
      "cell_type": "code",
      "metadata": {
        "colab": {
          "base_uri": "https://localhost:8080/"
        },
        "id": "QC7iRKMZlETa",
        "outputId": "19d5243b-65d7-4584-a4a9-80d83c43c81d"
      },
      "source": [
        "# chuẩn hóa Y: dùng get_dummies\n",
        "\n",
        "Y = pd.get_dummies(df['labels']).values\n",
        "print(Y)"
      ],
      "execution_count": null,
      "outputs": [
        {
          "output_type": "stream",
          "text": [
            "[[1 0]\n",
            " [1 0]\n",
            " [1 0]\n",
            " ...\n",
            " [0 1]\n",
            " [0 1]\n",
            " [0 1]]\n"
          ],
          "name": "stdout"
        }
      ]
    },
    {
      "cell_type": "code",
      "metadata": {
        "colab": {
          "base_uri": "https://localhost:8080/"
        },
        "id": "ayltsOX6lLHX",
        "outputId": "f52f3c49-c319-4f8d-9972-8e89c6e2d83c"
      },
      "source": [
        "# prepare tập test và validation\n",
        "from sklearn.model_selection import train_test_split\n",
        "\n",
        "X_train, X_test, Y_train, Y_test = train_test_split(X,Y, test_size = 0.2, random_state = 200)\n",
        "print(X_train.shape,Y_train.shape)\n",
        "print(X_test.shape,Y_test.shape)"
      ],
      "execution_count": null,
      "outputs": [
        {
          "output_type": "stream",
          "text": [
            "(8020, 1288) (8020, 2)\n",
            "(2005, 1288) (2005, 2)\n"
          ],
          "name": "stdout"
        }
      ]
    },
    {
      "cell_type": "markdown",
      "metadata": {
        "id": "F0DjYB4Xlm7P"
      },
      "source": [
        "# MODEL SIMPLE RNN\n"
      ]
    },
    {
      "cell_type": "code",
      "metadata": {
        "id": "tjcn2acIl4FI"
      },
      "source": [
        "import tensorflow as tf\n",
        "from tensorflow.keras import Model, Sequential\n",
        "from tensorflow.keras.layers import Activation, Dense, Embedding, GlobalAveragePooling1D\n",
        "from tensorflow.keras.layers.experimental.preprocessing import TextVectorization\n"
      ],
      "execution_count": null,
      "outputs": []
    },
    {
      "cell_type": "code",
      "metadata": {
        "colab": {
          "base_uri": "https://localhost:8080/"
        },
        "id": "mcSrWRYylq0X",
        "outputId": "dbb6e0c2-6a76-4898-f295-73a01c65c605"
      },
      "source": [
        "vocab_size = 2000\n",
        "max_length=1000\n",
        "embed_dim=5\n",
        "embedding_dim=16\n",
        "\n",
        "model = Sequential([\n",
        "  Embedding(vocab_size, embedding_dim, name=\"embedding\"),\n",
        "  GlobalAveragePooling1D(),\n",
        "  Dense(16, activation='relu'),\n",
        "  Dense(2)\n",
        "])\n",
        "print(model.summary())\n",
        "model.compile(optimizer='adam',\n",
        "              loss=tf.keras.losses.BinaryCrossentropy(from_logits=True),\n",
        "              metrics=['accuracy'])"
      ],
      "execution_count": null,
      "outputs": [
        {
          "output_type": "stream",
          "text": [
            "Model: \"sequential\"\n",
            "_________________________________________________________________\n",
            "Layer (type)                 Output Shape              Param #   \n",
            "=================================================================\n",
            "embedding (Embedding)        (None, None, 16)          32000     \n",
            "_________________________________________________________________\n",
            "global_average_pooling1d (Gl (None, 16)                0         \n",
            "_________________________________________________________________\n",
            "dense (Dense)                (None, 16)                272       \n",
            "_________________________________________________________________\n",
            "dense_1 (Dense)              (None, 2)                 34        \n",
            "=================================================================\n",
            "Total params: 32,306\n",
            "Trainable params: 32,306\n",
            "Non-trainable params: 0\n",
            "_________________________________________________________________\n",
            "None\n"
          ],
          "name": "stdout"
        }
      ]
    },
    {
      "cell_type": "code",
      "metadata": {
        "colab": {
          "base_uri": "https://localhost:8080/"
        },
        "id": "Mxg1F0TEmJX_",
        "outputId": "bef92427-ffe0-4c09-978c-af0b253ff69e"
      },
      "source": [
        "model.fit( X_train, Y_train, epochs=20, validation_data=(X_test, Y_test), batch_size=128, shuffle=True, verbose=1)"
      ],
      "execution_count": null,
      "outputs": [
        {
          "output_type": "stream",
          "text": [
            "Epoch 1/20\n",
            "63/63 [==============================] - 3s 15ms/step - loss: 0.6893 - accuracy: 0.5647 - val_loss: 0.6773 - val_accuracy: 0.6090\n",
            "Epoch 2/20\n",
            "63/63 [==============================] - 1s 11ms/step - loss: 0.6750 - accuracy: 0.6093 - val_loss: 0.6699 - val_accuracy: 0.6090\n",
            "Epoch 3/20\n",
            "63/63 [==============================] - 1s 12ms/step - loss: 0.6755 - accuracy: 0.5939 - val_loss: 0.6690 - val_accuracy: 0.6090\n",
            "Epoch 4/20\n",
            "63/63 [==============================] - 1s 11ms/step - loss: 0.6705 - accuracy: 0.6056 - val_loss: 0.6688 - val_accuracy: 0.6090\n",
            "Epoch 5/20\n",
            "63/63 [==============================] - 1s 11ms/step - loss: 0.6737 - accuracy: 0.5965 - val_loss: 0.6683 - val_accuracy: 0.6090\n",
            "Epoch 6/20\n",
            "63/63 [==============================] - 1s 11ms/step - loss: 0.6768 - accuracy: 0.5880 - val_loss: 0.6677 - val_accuracy: 0.6090\n",
            "Epoch 7/20\n",
            "63/63 [==============================] - 1s 11ms/step - loss: 0.6708 - accuracy: 0.6012 - val_loss: 0.6671 - val_accuracy: 0.6090\n",
            "Epoch 8/20\n",
            "63/63 [==============================] - 1s 11ms/step - loss: 0.6686 - accuracy: 0.6032 - val_loss: 0.6660 - val_accuracy: 0.6090\n",
            "Epoch 9/20\n",
            "63/63 [==============================] - 1s 12ms/step - loss: 0.6705 - accuracy: 0.5943 - val_loss: 0.6635 - val_accuracy: 0.6090\n",
            "Epoch 10/20\n",
            "63/63 [==============================] - 1s 11ms/step - loss: 0.6629 - accuracy: 0.6070 - val_loss: 0.6601 - val_accuracy: 0.6090\n",
            "Epoch 11/20\n",
            "63/63 [==============================] - 1s 11ms/step - loss: 0.6603 - accuracy: 0.6033 - val_loss: 0.6548 - val_accuracy: 0.6090\n",
            "Epoch 12/20\n",
            "63/63 [==============================] - 1s 13ms/step - loss: 0.6559 - accuracy: 0.6017 - val_loss: 0.6485 - val_accuracy: 0.6090\n",
            "Epoch 13/20\n",
            "63/63 [==============================] - 1s 11ms/step - loss: 0.6470 - accuracy: 0.6047 - val_loss: 0.6405 - val_accuracy: 0.6090\n",
            "Epoch 14/20\n",
            "63/63 [==============================] - 1s 12ms/step - loss: 0.6389 - accuracy: 0.6011 - val_loss: 0.6306 - val_accuracy: 0.6090\n",
            "Epoch 15/20\n",
            "63/63 [==============================] - 1s 11ms/step - loss: 0.6308 - accuracy: 0.6013 - val_loss: 0.6229 - val_accuracy: 0.6559\n",
            "Epoch 16/20\n",
            "63/63 [==============================] - 1s 11ms/step - loss: 0.6173 - accuracy: 0.6187 - val_loss: 0.6104 - val_accuracy: 0.6155\n",
            "Epoch 17/20\n",
            "63/63 [==============================] - 1s 12ms/step - loss: 0.6015 - accuracy: 0.6532 - val_loss: 0.5996 - val_accuracy: 0.6195\n",
            "Epoch 18/20\n",
            "63/63 [==============================] - 1s 12ms/step - loss: 0.5895 - accuracy: 0.6772 - val_loss: 0.5907 - val_accuracy: 0.7711\n",
            "Epoch 19/20\n",
            "63/63 [==============================] - 1s 11ms/step - loss: 0.5792 - accuracy: 0.7345 - val_loss: 0.5724 - val_accuracy: 0.7875\n",
            "Epoch 20/20\n",
            "63/63 [==============================] - 1s 11ms/step - loss: 0.5635 - accuracy: 0.7595 - val_loss: 0.5591 - val_accuracy: 0.7950\n"
          ],
          "name": "stdout"
        },
        {
          "output_type": "execute_result",
          "data": {
            "text/plain": [
              "<tensorflow.python.keras.callbacks.History at 0x7fb8c473f550>"
            ]
          },
          "metadata": {
            "tags": []
          },
          "execution_count": 12
        }
      ]
    },
    {
      "cell_type": "code",
      "metadata": {
        "colab": {
          "base_uri": "https://localhost:8080/",
          "height": 282
        },
        "id": "cIDMLNMimdXP",
        "outputId": "1973a58e-29f4-4a04-97d6-5a34df73915a"
      },
      "source": [
        "losses = pd.DataFrame(model.history.history)\n",
        "losses.plot()"
      ],
      "execution_count": null,
      "outputs": [
        {
          "output_type": "execute_result",
          "data": {
            "text/plain": [
              "<matplotlib.axes._subplots.AxesSubplot at 0x7fb8b0052da0>"
            ]
          },
          "metadata": {
            "tags": []
          },
          "execution_count": 13
        },
        {
          "output_type": "display_data",
          "data": {
            "image/png": "[encoded data removed]",
            "text/plain": [
              "<Figure size 432x288 with 1 Axes>"
            ]
          },
          "metadata": {
            "tags": [],
            "needs_background": "light"
          }
        }
      ]
    },
    {
      "cell_type": "markdown",
      "metadata": {
        "id": "Svk3WU7jmq9d"
      },
      "source": [
        ""
      ]
    },
    {
      "cell_type": "markdown",
      "metadata": {
        "id": "Z3hwdpU7mnEu"
      },
      "source": [
        "# MODEL: RNN WITH LSTM"
      ]
    },
    {
      "cell_type": "code",
      "metadata": {
        "colab": {
          "base_uri": "https://localhost:8080/"
        },
        "id": "Ao-F1YbZPKg9",
        "outputId": "e3f45c58-b592-4764-f997-8cb8e7759914"
      },
      "source": [
        "y=[]\n",
        "for i in df[\"labels\"]:\n",
        "  if i ==\"không phản động\":y.append(0)\n",
        "  if i ==\"phản động\":y.append(1)\n",
        "X_train, X_test, Y_train, Y_test = train_test_split(df[\"text\"],y, test_size = 0.2, random_state = 200)\n",
        "print(X_train[1])\n",
        "train_dataset = tf.data.Dataset.from_tensor_slices((X_train,Y_train))\n",
        "test_dataset = tf.data.Dataset.from_tensor_slices((X_test,Y_test))\n",
        "\n"
      ],
      "execution_count": null,
      "outputs": [
        {
          "output_type": "stream",
          "text": [
            "đời lính là những kỉ_niệm khó có_thể quên được\n"
          ],
          "name": "stdout"
        }
      ]
    },
    {
      "cell_type": "code",
      "metadata": {
        "colab": {
          "base_uri": "https://localhost:8080/"
        },
        "id": "i-2sqiySPtFR",
        "outputId": "ffa7c3fe-1da3-4e3d-a753-2b202b651d8f"
      },
      "source": [
        "for example, label in train_dataset.take(1):\n",
        "  print('text: ', example.numpy())\n",
        "  print('label: ', label.numpy())"
      ],
      "execution_count": null,
      "outputs": [
        {
          "output_type": "stream",
          "text": [
            "text:  [b'lee duc ng l\\xe1\\xbb\\x9bn \\xc4\\x91ang tranh_lu\\xe1\\xba\\xadn v\\xe1\\xbb\\x9bi nhau nh\\xe1\\xba\\xa3y \\xc4\\x91\\xc3\\xa2u v\\xc3\\xa0o m\\xe1\\xbb\\x99t th\\xe1\\xba\\xb1ng con_n\\xc3\\xadt m\\xe1\\xbb\\x9f_mi\\xe1\\xbb\\x87ng l\\xc3\\xa0 m\\xe1\\xbb\\xb9 m\\xe1\\xbb\\xb9 fb m\\xc3\\xa0y \\xc4\\x91ang d\\xc3\\xb9ng \\xc4\\x91\\xe1\\xbb\\x83 vi\\xe1\\xba\\xbft cmt c\\xc5\\xa9ng c\\xe1\\xbb\\xa7a gi\\xe1\\xba\\xb7c m\\xe1\\xbb\\xb9 \\xc4\\x91\\xe1\\xba\\xa5y m\\xc3\\xa0y t\\xe1\\xbb\\xb1 ch\\xe1\\xbb\\xadi m\\xc3\\xa0y h\\xe1\\xba\\xa3 nh\\xc3\\xb3c'\n",
            " b'tuan nguyenduy b\\xc3\\xbaa qu\\xc3\\xaan th\\xc3\\xac tui cung_c\\xe1\\xba\\xa5p cho b\\xe1\\xba\\xa1n c\\xc3\\xb3 khi b\\xe1\\xba\\xa1n c\\xc5\\xa9ng m\\xc4\\x83m me \\xc4\\x91i search th\\xe1\\xbb\\xad nh\\xc6\\xb0ng v\\xe1\\xba\\xabn h\\xe1\\xbb\\x8fi cho c\\xc3\\xb3 t\\xe1\\xbb\\xa5'\n",
            " b'tr\\xe1\\xba\\xa7n_d\\xc6\\xb0\\xc6\\xa1ng ko th\\xc3\\xadch \\xc4\\x91\\xc3\\xb3 b\\xe1\\xbb\\x99 m\\xc3\\xa0y \\xc4\\x91i h\\xe1\\xbb\\x8dc c\\xe1\\xbb\\xa9 b\\xe1\\xba\\xa1n t\\xc3\\xb4i ko \\xc3\\xa0 c\\xc3\\xb2n v\\xc4\\x83n_h\\xc3\\xb3a hay ko th\\xc3\\xac c\\xc3\\xb2n t\\xc3\\xb9y n\\xe1\\xbb\\xafa tr\\xe1\\xba\\xa3_l\\xe1\\xbb\\x9di ko \\xc4\\x91c th\\xc3\\xac n\\xc3\\xb3i b\\xc3\\xa0y_\\xc4\\x91\\xe1\\xba\\xb7t v\\xc4\\x83n_h\\xc3\\xb3a n\\xc3\\xa0y n\\xe1\\xbb\\x8d ko quen_bi\\xe1\\xba\\xbft nhau \\xc4\\x91\\xc3\\xa9o k\\xc3\\xaau m\\xe1\\xba\\xa5y ng\\xc6\\xb0\\xe1\\xbb\\x9di ki\\xe1\\xbb\\x83u cmt \\xc4\\x91\\xe1\\xba\\xa7u \\xc4\\x91\\xe1\\xba\\xa5t l\\xc3\\xa0 b\\xe1\\xba\\xa1n t\\xc3\\xb4i nh\\xc3\\xa9 m\\xc3\\xa0 c\\xc3\\xb3 g\\xe1\\xba\\xb7p nhau h\\xe1\\xbb\\x93i n\\xc3\\xa0o m\\xc3\\xa0 \\xc4\\x91\\xc3\\xb2i l\\xc3\\xa0m b\\xe1\\xba\\xa1n'\n",
            " b'cafe ku b\\xc3\\xbaa cmt l\\xc3\\xa0 bi\\xe1\\xba\\xbft ch\\xc6\\xb0a qua c\\xc3\\xa1c n\\xc6\\xb0\\xe1\\xbb\\x9bc t\\xc6\\xb0_b\\xe1\\xba\\xa3n gi\\xc3\\xa3y_ch\\xe1\\xba\\xbft l\\xe1\\xba\\xa7n n\\xc3\\xa0o r\\xe1\\xbb\\x93i'\n",
            " b'hi\\xe1\\xba\\xbfu ph\\xe1\\xba\\xa1m t\\xc3\\xb4i \\xc4\\x91ang n\\xc3\\xb3i_chung m\\xe1\\xbb\\x8di lo\\xe1\\xba\\xa1i ti\\xe1\\xbb\\x81n xu\\xe1\\xba\\xa5t_ph\\xc3\\xa1t t\\xe1\\xbb\\xab ng\\xc3\\xa2n_h\\xc3\\xa0ng \\xc4\\x91\\xe1\\xbb\\x83 t\\xc3\\xa1ch_bi\\xe1\\xbb\\x87t kh\\xe1\\xbb\\x8fi ti\\xe1\\xbb\\x81n_m\\xe1\\xba\\xb7t th\\xc3\\xb4ng_th\\xc6\\xb0\\xe1\\xbb\\x9dng xin nh\\xe1\\xba\\xafc l\\xe1\\xba\\xa1i cho b\\xe1\\xba\\xa1n 1 c\\xc3\\xa2u_chuy\\xe1\\xbb\\x87n c\\xc6\\xa1_b\\xe1\\xba\\xa3n c\\xe1\\xbb\\xa7a kinh_t\\xe1\\xba\\xbf l\\xc3\\xa0 ti\\xc3\\xaau ti\\xe1\\xbb\\x81n kh\\xc3\\xb4ng t\\xe1\\xba\\xa1o ra c\\xe1\\xbb\\xa7a_c\\xe1\\xba\\xa3i s\\xe1\\xba\\xa3n_xu\\xe1\\xba\\xa5t m\\xe1\\xbb\\x9bi t\\xe1\\xba\\xa1o ra c\\xe1\\xbb\\xa7a_c\\xe1\\xba\\xa3i nh\\xc3\\xa9 ti\\xc3\\xaau_d\\xc3\\xb9ng qu\\xc3\\xa1 m\\xe1\\xbb\\xa9c kh\\xc3\\xb4ng d\\xe1\\xbb\\xb1a tr\\xc3\\xaan c\\xc6\\xa1_s\\xe1\\xbb\\x9f c\\xe1\\xbb\\xa7a s\\xe1\\xba\\xa3n_xu\\xe1\\xba\\xa5t \\xc6\\xb0u_\\xc3\\xa1i ti\\xc3\\xaau_d\\xc3\\xb9ng gi\\xc3\\xa1o_d\\xe1\\xbb\\xa5c t\\xe1\\xbb\\x91t qu\\xe1\\xbb\\x91c_gia th\\xe1\\xbb\\x8bnh_v\\xc6\\xb0\\xe1\\xbb\\xa3ng v\\xc3\\xa0 gi\\xc3\\xa0u_c\\xc3\\xb3 l\\xc3\\xa0 1 c\\xc3\\xa2u nh\\xe1\\xba\\xadn_\\xc4\\x91\\xe1\\xbb\\x8bnh \\xc3\\xa9p 2 th\\xe1\\xbb\\xa9 ch\\xe1\\xba\\xa3 li\\xc3\\xaan_quan g\\xc3\\xac v\\xc3\\xa0o v\\xe1\\xbb\\x9bi nhau c\\xe1\\xba\\xa3 n\\xc3\\xb3 gi\\xe1\\xbb\\x91ng c\\xc3\\xa2u n\\xe1\\xba\\xbfu anh h\\xc3\\xa1t v\\xc3\\xa0 anh \\xc4\\x83n t\\xe1\\xbb\\x91i th\\xc3\\xac th\\xe1\\xba\\xb1ng'\n",
            " b'th\\xc4\\x83ng chu qu\\xc3\\xa1n n\\xc3\\xa0y la nguoi viet nam hay nguoi trung quoc sao no ngu xu\\xc3\\xa2n v\\xc3\\xa2y'\n",
            " b'mong c\\xc3\\xa1c anh m\\xe1\\xba\\xa1nh_kh\\xe1\\xbb\\x8fe b\\xc3\\xacnh_y\\xc3\\xaan'\n",
            " b'h\\xc6\\xb0ng nguy\\xe1\\xbb\\x85n_sao b\\xe1\\xba\\xa1n l\\xe1\\xba\\xa1i n\\xc3\\xb3i th\\xe1\\xba\\xbf m\\xc3\\xacnh th\\xe1\\xba\\xa5y gi\\xe1\\xbb\\x91ng hai r\\xe1\\xba\\xa1p_xi\\xe1\\xba\\xbfc h\\xc6\\xa1n m\\xe1\\xbb\\x97i l\\xe1\\xba\\xa7n c\\xe1\\xba\\xa3m_th\\xe1\\xba\\xa5y t\\xe1\\xbb\\xb1_ti trong cu\\xe1\\xbb\\x99c_s\\xe1\\xbb\\x91ng h\\xc3\\xa3y v\\xc3\\xa0o v\\xe1\\xbb\\x8bt t\\xc3\\xa2n v\\xc3\\xa0 ku p\\xc3\\xbaa v\\xc3\\xac b\\xe1\\xba\\xa1n s\\xe1\\xba\\xbd bi\\xe1\\xba\\xbft tr\\xc3\\xaan \\xc4\\x91\\xe1\\xbb\\x9di n\\xc3\\xa0y c\\xc3\\xb2n r\\xe1\\xba\\xa5t nhi\\xe1\\xbb\\x81u ng\\xc6\\xb0\\xe1\\xbb\\x9di ngu h\\xc6\\xa1n m\\xc3\\xacnh r\\xe1\\xba\\xa5t nhi\\xe1\\xbb\\x81u l\\xc3\\xa2u_l\\xc3\\xa2u v\\xc3\\xa0o xem t\\xe1\\xba\\xa5u h\\xc3\\xa0i ch\\xe1\\xbb\\xa9 h\\xc3\\xa0nh_v\\xc4\\x83n th\\xe1\\xba\\xbf n\\xc3\\xa0y tr\\xe1\\xba\\xbb_con l\\xe1\\xbb\\x9bp 6 n\\xc3\\xb3 l\\xe1\\xba\\xa1i ch\\xe1\\xbb\\xadi cho ku p\\xc3\\xbaa \\xc6\\xa1i'\n",
            " b'ng\\xe1\\xbb\\x8dc \\xc3\\xa1nh gi\\xe1\\xbb\\x9d c\\xc3\\xb3 ch\\xe1\\xbb\\xafi h\\xe1\\xba\\xafn c\\xc5\\xa9ng ko th\\xc3\\xa8m tr\\xe1\\xba\\xa3_l\\xe1\\xbb\\x9di \\xc4\\x91\\xc3\\xa2u'\n",
            " b'hu\\xe1\\xbb\\xb3nh qu\\xe1\\xbb\\x91c c\\xc6\\xb0\\xe1\\xbb\\x9dng t\\xc3\\xb4i \\xc4\\x91\\xc3\\xa2u c\\xc3\\xb3 d\\xc3\\xacm hay c\\xe1\\xba\\xa5m \\xc4\\x91\\xe1\\xba\\xa5t_n\\xc6\\xb0\\xe1\\xbb\\x9bc ph\\xc3\\xa1t_tri\\xe1\\xbb\\x83n nh\\xc6\\xb0ng ch\\xc3\\xbang_ta c\\xc3\\xb3 97 tri\\xe1\\xbb\\x87u d\\xc3\\xa2n th\\xc3\\xac qua m\\xe1\\xba\\xb7t 5 tri\\xe1\\xbb\\x87u ng\\xc6\\xb0\\xe1\\xbb\\x9di singapore l\\xc3\\xa0 \\xc4\\x91i\\xe1\\xbb\\x81u b\\xc3\\xacnh_th\\xc6\\xb0\\xe1\\xbb\\x9dng c\\xc3\\xb3 g\\xc3\\xac \\xc4\\x91\\xc3\\xa2u m\\xc3\\xa0 t\\xe1\\xbb\\xb1_h\\xc3\\xa0o mu\\xe1\\xbb\\x91n x\\xc3\\xa9t th\\xc3\\xac l\\xe1\\xba\\xa5y b\\xc3\\xacnh_qu\\xc3\\xa2n \\xc4\\x91\\xe1\\xba\\xa7u ng\\xc6\\xb0\\xe1\\xbb\\x9di ra s\\xe1\\xba\\xbd th\\xe1\\xba\\xa5y ch\\xc3\\xbang_ta thua h\\xe1\\xbb\\x8d r\\xe1\\xba\\xa5t nhi\\xe1\\xbb\\x81u 100 n\\xc4\\x83m sau c\\xc5\\xa9ng nh\\xc6\\xb0 \\xc4\\x91u\\xe1\\xbb\\x95i k\\xe1\\xbb\\x8bp'\n",
            " b'thien nguyen n\\xe1\\xba\\xbfu ch\\xc3\\xba mu\\xe1\\xbb\\x91n tranh_lu\\xe1\\xba\\xadn th\\xc3\\xac \\xc4\\x91\\xc6\\xb0a ra \\xc3\\xbd_ki\\xe1\\xba\\xbfn v\\xe1\\xbb\\x81 v\\xe1\\xba\\xa5n_\\xc4\\x91\\xe1\\xbb\\x81 n\\xc3\\xa0y nh\\xc3\\xa9 v\\xc3\\xa0 l\\xc3\\xa0m_\\xc6\\xa1n li\\xc3\\xaan_quan ch\\xc3\\xbat nh\\xc3\\xa9'\n",
            " b'cafe ku b\\xc3\\xbaa c\\xe1\\xba\\xa7n qu\\xc3\\xa1i g\\xc3\\xac gdp c\\xc3\\xa1c ki\\xe1\\xbb\\x83u c\\xe1\\xbb\\xa9 tao th\\xe1\\xba\\xa5y h\\xc6\\xa1n th\\xc3\\xac l\\xc3\\xa0 h\\xc6\\xa1n so gdp l\\xc3\\xa0m c\\xc3\\xa1i qu\\xe1\\xba\\xb1n qu\\xc3\\xa8'\n",
            " b'cafe ku b\\xc3\\xbaa noi nghiem tuc ne ku bua ku rang nghien cuu them luat my ve bau cu roi moi noi tiep hen fbi cia haha nghe benh lam'\n",
            " b'10 t\\xe1\\xba\\xadp c\\xc5\\xa9ng ch\\xc6\\xb0a_th\\xe1\\xbb\\x83 \\xc4\\x91\\xe1\\xbb\\xa7 dc'\n",
            " b'l\\xc6\\xb0\\xc6\\xa1ng th\\xc6\\xa1 1 vi\\xc3\\xaan la c\\xc3\\xa2n l\\xe1\\xba\\xafm r\\xe1\\xbb\\x93i'\n",
            " b'th\\xc3\\xac to\\xc3\\xa0n l\\xc3\\xa0m_g\\xc3\\xa1i ng\\xc3\\xa0nh v\\xc3\\xa0 nh\\xe1\\xba\\xadn vi\\xe1\\xbb\\x87n_tr\\xe1\\xbb\\xa3 t\\xe1\\xbb\\xab m\\xe1\\xba\\xbdo th\\xc3\\xac ch\\xe1\\xba\\xa3 nu\\xc3\\xb4i c\\xe1\\xba\\xa3 gia_\\xc4\\x91\\xc3\\xacnh th\\xe1\\xbb\\xad_h\\xe1\\xbb\\x8fi \\xe1\\xbb\\x9f m\\xe1\\xbb\\xb9 c\\xc3\\xb3 bao_gi\\xe1\\xbb\\x9d 1 ng\\xc6\\xb0\\xe1\\xbb\\x9di l\\xc3\\xa0m nu\\xc3\\xb4i c\\xe1\\xba\\xa3 nh\\xc3\\xa0 ko b\\xc3\\xbaa \\xc4\\x91\\xc3\\xbang l\\xc3\\xa0 t\\xc6\\xb0_duy ngu\\xe1\\xbb\\xb5 xu\\xe1\\xba\\xa9n qu\\xc3\\xa1'\n",
            " b'\\xc4\\x91\\xc3\\xb3ng thu\\xe1\\xba\\xbf nu\\xc3\\xb4i cho t\\xe1\\xbb\\xa5i n\\xc3\\xb3 b\\xe1\\xbb\\xa5ng b\\xe1\\xbb\\xb1 tai to c\\xc3\\xb3 s\\xe1\\xbb\\xa9c \\xc4\\x91\\xe1\\xbb\\x83 h\\xc3\\xa0nh l\\xe1\\xba\\xa1i ch\\xc3\\xadnh ch\\xe1\\xbb\\xa7_nh\\xc3\\xa2n c\\xe1\\xbb\\xa7a n\\xc3\\xb3'\n",
            " b'b\\xc3\\xad_m\\xe1\\xba\\xadt cu\\xe1\\xbb\\x91c gia m\\xc3\\xa0 ch\\xc3\\xba n\\xc3\\xb3i v\\xe1\\xba\\xady l\\xe1\\xbb\\x99 h\\xe1\\xba\\xbft'\n",
            " b'g\\xc3\\xa0o l\\xc3\\xaan to\\xc3\\xa0n s\\xc3\\xa2u_m\\xe1\\xbb\\x8dt tham_\\xc3\\xb4 m\\xc3\\xa0 \\xc4\\x91\\xc3\\xb2i \\xc4\\x91\\xc4\\x83ng c\\xc3\\xa1i c\\xc3\\xb3 \\xc3\\xadch\\xc6\\xa1 t\\xe1\\xbb\\xb1 c\\xe1\\xba\\xaft d\\xc3\\xa1i \\xc3\\xa0'\n",
            " b'cafe ku b\\xc3\\xbaa ph\\xe1\\xba\\xa3i l\\xc3\\xa0m cho h\\xe1\\xbb\\x8d shock shock th\\xe1\\xba\\xadt l\\xc3\\xa0 shock h\\xe1\\xbb\\x8d m\\xe1\\xbb\\x9bi t\\xe1\\xbb\\x89nh gi\\xe1\\xba\\xa5c m\\xe1\\xbb\\x99ng h\\xe1\\xbb\\x8d m\\xe1\\xbb\\x9bi bi\\xe1\\xba\\xbft ph\\xe1\\xba\\xa3i l\\xc3\\xa0m g\\xc3\\xac l\\xc3\\xa0 \\xc4\\x91\\xc3\\xbang nh\\xe1\\xba\\xa5t'\n",
            " b'ti\\xe1\\xbb\\x81n x\\xc3\\xa2y t\\xc6\\xb0\\xe1\\xbb\\xa3ng_\\xc4\\x91\\xc3\\xa0i kh\\xe1\\xba\\xa9u_hi\\xe1\\xbb\\x87u b\\xc4\\x83ng r\\xc3\\xb4n \\xc4\\x91\\xe1\\xbb\\x9di_\\xc4\\x91\\xe1\\xbb\\x9di nh\\xe1\\xbb\\x9b_\\xc6\\xa1n ku h\\xe1\\xbb\\x93'\n",
            " b'b\\xc4\\x83ng h\\xe1\\xba\\xa3i_t\\xe1\\xba\\xb7c m\\xc5\\xa9 r\\xc6\\xa1m h\\xe1\\xba\\xa3i_t\\xe1\\xba\\xb7c m\\xc3\\xa0 l\\xe1\\xba\\xa1i kh\\xc3\\xa1t_n\\xc6\\xb0\\xe1\\xbb\\x9bc \\xc3\\xa0'\n",
            " b'vtv b\\xc3\\xa1o qu\\xc3\\xa2n_\\xc4\\x91\\xe1\\xbb\\x99i nh\\xc3\\xa2n_d\\xc3\\xa2n ch\\xe1\\xbb\\xa7_t\\xe1\\xbb\\x8bch t\\xe1\\xbb\\x89nh qu\\xe1\\xba\\xa3ng_tr\\xe1\\xbb\\x8b c\\xc3\\xb3 \\xc4\\x91\\xc3\\xa1ng tin h\\xc6\\xa1n c\\xc3\\xa1i m\\xe1\\xbb\\x93m ch\\xe1\\xbb\\x8b ca_s\\xc4\\xa9 ko'\n",
            " b'b\\xc3\\xb2 trump c\\xc5\\xa9ng nh\\xc6\\xb0 b\\xc3\\xb2 \\xc4\\x91\\xe1\\xbb\\x8f th\\xc3\\xb4i ch\\xe1\\xbb\\x89 l\\xc3\\xa0 kh\\xc3\\xa1c phe th\\xc3\\xb4ng n\\xc3\\xa3o v\\xc3\\xb4_\\xc3\\xadch'\n",
            " b'c\\xe1\\xbb\\x9fi m\\xe1\\xba\\xb9 c\\xc3\\xa1i \\xc3\\xa1o ngo\\xc3\\xa0i \\xc4\\x91i l\\xc3\\xa0 \\xe1\\xbb\\x95n r\\xe1\\xbb\\x93i c\\xc3\\xb2n g\\xc3\\xa1ng m\\xe1\\xba\\xb7c'\n",
            " b'v\\xc3\\xa2n nguy\\xe1\\xbb\\x85n_b\\xe1\\xbb\\x8dn n\\xc3\\xa0y ngu th\\xc3\\xac ch\\xe1\\xba\\xbft ch\\xe1\\xbb\\xa9 b\\xe1\\xbb\\x87nh_t\\xe1\\xba\\xadt g\\xc3\\xac'\n",
            " b'tr\\xe1\\xba\\xa7n minh \\xc4\\x91\\xe1\\xba\\xa1t nh\\xc3\\xa0 h\\xe1\\xbb\\x8d gi\\xc3\\xa0u n\\xe1\\xbb\\xa9t v\\xc3\\xa1ch \\xc4\\x91\\xe1\\xbb\\x95 t\\xc6\\xb0\\xe1\\xbb\\x9dng nh\\xc3\\xa0 b\\xc3\\xa1c gi\\xc3\\xa0u ng\\xe1\\xba\\xadp t\\xc6\\xb0\\xe1\\xbb\\x9dng \\xc4\\x91\\xe1\\xbb\\x95 v\\xc3\\xa1ch'\n",
            " b'ph\\xe1\\xba\\xa1m nguy\\xe1\\xbb\\x85n_duy_khanh l\\xc5\\xa9 v\\xe1\\xbb\\xaba v\\xe1\\xbb\\xaba c\\xe1\\xbb\\x99ng th\\xc3\\xaam c\\xc3\\xba b\\xe1\\xbb\\x93i x\\xe1\\xba\\xa3 \\xc4\\x91\\xe1\\xba\\xadp n\\xe1\\xbb\\xafa th\\xc3\\xac th\\xc3\\xa0nh l\\xc5\\xa9 l\\xe1\\xbb\\x9bn thi\\xc3\\xaan_nhi\\xc3\\xaan \\xc3\\xa1c 1 ch\\xe1\\xbb\\xa9 m\\xe1\\xba\\xa5y th\\xc3\\xa8n kia kia \\xc3\\xa1c b\\xe1\\xbb\\x99i_ph\\xe1\\xba\\xa7n'\n",
            " b'g\\xe1\\xba\\xb7p bao_gi\\xe1\\xbb\\x9d ch\\xc6\\xb0a m\\xc3\\xacnh \\xc6\\xa1i \\xc4\\x91\\xe1\\xbb\\xa9c d\\xe1\\xbb\\xb1'\n",
            " b'cafe ku b\\xc3\\xbaa \\xc3\\xa0 m\\xc3\\xacnh nh\\xe1\\xba\\xa7m xin_l\\xe1\\xbb\\x97i b\\xe1\\xba\\xa1n m\\xc3\\xacnh s\\xe1\\xbb\\xada l\\xe1\\xba\\xa1i l\\xc3\\xa0 b\\xe1\\xba\\xa1n kh\\xc3\\xb4ng ch\\xe1\\xbb\\x8bu th\\xe1\\xba\\xa5y m\\xe1\\xbb\\x9bi \\xc4\\x91\\xc3\\xbang nh\\xc3\\xa9'\n",
            " b'nam_m\\xc3\\xb4 a_di_\\xc4\\x91\\xc3\\xa0 ph\\xe1\\xba\\xadt'\n",
            " b'v\\xe1\\xbb\\x81 r\\xe1\\xbb\\x93i xin \\xc4\\x91i_n\\xe1\\xbb\\xafa m\\xc3\\xa0 kh\\xc3\\xb4ng \\xc4\\x91\\xc6\\xb0\\xe1\\xbb\\xa3c'\n",
            " b'h\\xe1\\xbb\\xa3p c\\xc3\\xb2i chu\\xe1\\xba\\xa9n th\\xe1\\xba\\xadt th\\xe1\\xba\\xbf_h\\xe1\\xbb\\x87 v\\xc3\\xa0ng th\\xe1\\xba\\xbf_h\\xe1\\xbb\\x87 v\\xc4\\xa9_\\xc4\\x91\\xe1\\xba\\xa1i nh\\xe1\\xba\\xa5t c\\xe1\\xbb\\xa7a vi\\xe1\\xbb\\x87t nam \\xc4\\x91\\xe1\\xba\\xa5y t\\xe1\\xba\\xa5t_c\\xe1\\xba\\xa3 m\\xe1\\xbb\\x8di ng\\xc6\\xb0\\xe1\\xbb\\x9di th\\xe1\\xba\\xbf_gi\\xe1\\xbb\\x9bi \\xc4\\x91\\xe1\\xbb\\x81u \\xc4\\x91\\xc3\\xa1nh_gi\\xc3\\xa1 nh\\xc6\\xb0 th\\xe1\\xba\\xbf'\n",
            " b'tu\\xe1\\xba\\xa5n anh \\xc4\\x91\\xc3\\xa0o k to nh\\xc6\\xb0 n\\xc3\\xa0y m\\xc3\\xa0 k\\xc3\\xadch_th\\xc6\\xb0\\xe1\\xbb\\x9bc 20x20 s\\xc3\\xa2u 1m moi kh\\xe1\\xbb\\x95 h\\xc6\\xa1n \\xc4\\x91\\xc3\\xa0o n\\xe1\\xbb\\xafa'\n",
            " b'l\\xc3\\xaa \\xc4\\x91\\xe1\\xbb\\xa9c chung ngu\\xe1\\xbb\\x93n ng\\xc3\\xa2n_s\\xc3\\xa1ch \\xc4\\x91\\xe1\\xba\\xbfn t\\xe1\\xbb\\xab c\\xc3\\xa1c doanh_nghi\\xe1\\xbb\\x87p nh\\xc3\\xa0_\\xc4\\x91\\xe1\\xba\\xa7u_t\\xc6\\xb0 v\\xe1\\xba\\xady c\\xc3\\xa1i doanh_nghi\\xe1\\xbb\\x87p nh\\xc3\\xa0_\\xc4\\x91\\xe1\\xba\\xa7u_t\\xc6\\xb0 \\xc4\\x91\\xc3\\xb3 n\\xc3\\xb3 ko b\\xc3\\xa1n c\\xc3\\xa1i \\xc4\\x91\\xe1\\xbb\\x93 \\xc4\\x91\\xc3\\xb3 cho m \\xc3\\xa0 400_000 t\\xe1\\xbb\\xb7 t\\xe1\\xbb\\x95ng_thu ng\\xc3\\xa2n_s\\xc3\\xa1ch h\\xc3\\xa0ng n\\xc4\\x83m t\\xc6\\xb0\\xc6\\xa1ng_\\xc4\\x91\\xc6\\xb0\\xc6\\xa1ng v\\xe1\\xbb\\x91n_ho\\xc3\\xa1 17 c\\xc3\\xb4ng_ty c\\xe1\\xbb\\xa1 apple ngh\\xc4\\xa9 coi bao_nhi\\xc3\\xaau c\\xc3\\xa1i doanh_nghi\\xe1\\xbb\\x87p c\\xc3\\xa2n n\\xe1\\xbb\\x95i con_s\\xe1\\xbb\\x91 \\xc4\\x91\\xc3\\xb3 n\\xe1\\xba\\xbfu ko c\\xc3\\xb3 d\\xc3\\xa2n_\\xc4\\x91en mua \\xc4\\x91\\xe1\\xbb\\x93 \\xc4\\x91\\xc3\\xb3ng thu\\xe1\\xba\\xbf s\\xc3\\xa0i_g\\xc3\\xb2n \\xc4\\x91\\xe1\\xbb\\x83 l\\xe1\\xba\\xa1i 145 tri\\xe1\\xbb\\x87u n\\xe1\\xbb\\xa3 m\\xe1\\xbb\\xb9 bao_g\\xe1\\xbb\\x93m c\\xe1\\xba\\xa7u_\\xc4\\x91\\xc6\\xb0\\xe1\\xbb\\x9dng b\\xe1\\xbb\\x87nh_vi\\xe1\\xbb\\x87n v\\xc3\\xa0 nh\\xc3\\xa0_m\\xc3\\xa1y \\xc4\\x91i\\xe1\\xbb\\x87n ch\\xe1\\xbb\\xa9 \\xc4\\x91 c\\xc3\\xb3 bao_g\\xe1\\xbb\\x93m vi\\xe1\\xbb\\x87n_tr\\xe1\\xbb\\xa3 qu\\xc3\\xa2n_s\\xe1\\xbb\\xb1 \\xe1\\xbb\\xa7a \\xc4\\x91m t\\xe1\\xbb\\xa5i m ti\\xe1\\xba\\xbfp_qu\\xe1\\xba\\xa3n th\\xc3\\xac ph\\xe1\\xba\\xa3i ti\\xe1\\xba\\xbfp lu\\xc3\\xb4n c\\xc3\\xa1i kho\\xe1\\xba\\xa3n n\\xe1\\xbb\\xa3 \\xc4\\x91\\xc3\\xb3 ch\\xe1\\xbb\\xa9 t\\xe1\\xbb\\xa5i m \\xc4\\x91 mu\\xe1\\xbb\\x91n tr\\xe1\\xba\\xa3 n\\xe1\\xbb\\xa3 th\\xc3\\xac \\xc4\\x91\\xe1\\xba\\xadp b\\xe1\\xbb\\x8f h\\xe1\\xba\\xbft r g\\xe1\\xbb\\xadi s\\xe1\\xba\\xaft v\\xe1\\xbb\\xa5n cho m\\xe1\\xbb\\xb9 \\xc4\\x91\\xc3\\xaa'\n",
            " b'hoa ra t kho \\xc4\\x91e pha vo va \\xc4\\x91ie u thu hai la 48h tru o c chu ng to i \\xc4\\x91a trie n khai nhu to i no i ho n 20 nga n hoa c nhie u ho n the ve binh tre n toa n quo c va kho ng ai no i ve vie c na y va thu c te to i ra t ca c o n ca c ha ng truye n tho ng \\xc4\\x91a kho ng \\xc4\\x91u a tin ve \\xc4\\x91ie u na y va nhu ng \\xc4\\x91ie u \\xc4\\x91ang die n ra la ca c ba n \\xc4\\x91ang \\xc4\\x91u o c chu ng kie n mo t chie n lu o c ga i ba y vo cu ng tinh tu o ng do trump kho i xu o ng to i chi \\xc4\\x91u ng o vi tri tha p nha t trong cuo c cho i na y tho i va tha nh tha t ma no i ma i to i to i qua to i \\xc4\\x91u o c tho ng ba o ra ng ho m nay to i co the no i mo t va i thu ve no \\xc4\\x91o la_ly do vi sao to i kho ng the lo die n va kho ng gio ng nhu nhu ng gi ca c ba n nghi \\xc4\\x91a y kho ng pha i mo t cuo c no i chie n chu ng to i kho ng nga c nhie n chu t na o ke hoa ch na y \\xc4\\x91a \\xc4\\x91u o c trump xa y_du_ng trong mo t tho i gian da i ra t da i va tu o ng tu nhu ca ch ma chu ng ta bie t ve hillary clinton to i \\xc4\\x91a ca nh ba o ve cuo c \\xc4\\x91a o chi nh ma chu ng to i la m va \\xc4\\x91a y la nhu ng gi chu ng to i la m \\xc4\\x91e cho ng la i nha biden va \\xc4\\x91o chi nh xa c la nhu ng gi chu ng to i du lie u xem ti\\xe1\\xba\\xbfp \\xe1\\xbb\\x9f comment https www_youtube_com watch v wl7k57nnzbg'\n",
            " b'ray nguyen c\\xc5\\xa9ng l\\xc3\\xa0 nh\\xc3\\xa0 \\xc3\\xb4ng \\xe1\\xba\\xa5y ch\\xe1\\xbb\\xa9 ai b\\xe1\\xba\\xa3o ko ph\\xe1\\xba\\xa3i \\xc4\\x91\\xc3\\xa2u'\n",
            " b'kh\\xc3\\xb4ng c\\xc3\\xb3 n\\xe1\\xbb\\x97i \\xc4\\x91au n\\xc3\\xa0o gi\\xe1\\xbb\\x91ng n\\xe1\\xbb\\x97i \\xc4\\x91au n\\xc3\\xa0o mong \\xc3\\xb4ng y\\xc3\\xaan_ngh\\xe1\\xbb\\x89'\n",
            " b'tui phan dong'\n",
            " b'hu\\xe1\\xbb\\xb3nh v\\xc4\\x83n tu\\xe1\\xba\\xa5n ngu nh\\xc6\\xb0 c\\xc3\\xban h\\xe1\\xbb\\x8dc m\\xc3\\xa0 l\\xc3\\xa0m_\\xc4\\x83n c\\xc3\\xb9ng \\xc4\\x91\\xc3\\xa1nh c\\xc3\\xa1i m\\xe1\\xba\\xa3_cha m\\xc3\\xa0y t\\xc3\\xa0u n\\xc3\\xb3 l\\xe1\\xba\\xa1i v\\xe1\\xbb\\xa5t l\\xc3\\xaan l\\xc3\\xa0m s\\xe1\\xbb\\x91 1 \\xc4\\x91\\xe1\\xbb\\x93 ngu'\n",
            " b'nguy\\xe1\\xbb\\x85n_minh ti\\xe1\\xba\\xbfn s\\xc3\\xa1ng m\\xe1\\xba\\xaft l\\xc3\\xaan \\xc4\\x91i con_trai y\\xc3\\xaau n\\xc6\\xb0\\xe1\\xbb\\x9bc l\\xc3\\xa0 \\xc4\\x91\\xc3\\xbang nh\\xc6\\xb0ng \\xc4\\x91\\xe1\\xbb\\xabng m\\xc3\\xb9_qu\\xc3\\xa1ng'\n",
            " b'trinh ho\\xc3\\xa0ng \\xc4\\x91\\xe1\\xbb\\xabng l\\xc3\\xb4i d\\xe1\\xba\\xabn_ch\\xe1\\xbb\\xa9ng c\\xe1\\xbb\\xa7a b\\xc3\\xa0 ti\\xc3\\xaan n\\xe1\\xbb\\xafa c\\xe1\\xbb\\xa9 \\xc4\\x91\\xe1\\xbb\\x83 b\\xc3\\xa0 ti\\xc3\\xaan l\\xc3\\xa0m r\\xe1\\xbb\\x93i c\\xc3\\xb3 l\\xc3\\xbac ti\\xc3\\xaan s\\xe1\\xba\\xbd bay l\\xc3\\xaan tr\\xe1\\xbb\\x9di thoii h\\xe1\\xbb\\x8d quen v\\xe1\\xbb\\x9bi th\\xe1\\xbb\\x8b_phi r\\xe1\\xbb\\x93i c\\xc3\\xb2n ng\\xe1\\xbb\\xaboi d\\xc3\\xa2n_th\\xc6\\xb0\\xe1\\xbb\\x9dng th\\xc3\\xac ko'\n",
            " b'h\\xc3\\xb3ng c\\xc3\\xa1c b\\xe1\\xba\\xa1n h\\xe1\\xbb\\x8dc ti\\xe1\\xba\\xbfng trung'\n",
            " b'oom hoyra 1 k0 c\\xc3\\xb3 qu\\xe1\\xbb\\x91c_gia n\\xc3\\xa0o \\xc4\\x91\\xc4\\xa9 nhi\\xe1\\xbb\\x81u h\\xc6\\xa1n d\\xc3\\xa2n c\\xc5\\xa9ng ch\\xe1\\xba\\xa3 ai l\\xe1\\xba\\xa5y thi\\xe1\\xbb\\x83u_s\\xe1\\xbb\\x91 l\\xc3\\xa0m \\xc4\\x91\\xe1\\xba\\xa1i_di\\xe1\\xbb\\x87n nh\\xc6\\xb0 ku b\\xc3\\xbaa m ph\\xe1\\xba\\xa3n_bi\\xe1\\xbb\\x87n b\\xe1\\xba\\xb1ng 1 th\\xe1\\xbb\\xa9 k0 li\\xc3\\xaan_quan m l\\xc3\\xa0 th\\xe1\\xba\\xb1ng \\xc4\\x91\\xc3\\xa1nh_tr\\xc3\\xa1o kh\\xc3\\xa1i_ni\\xe1\\xbb\\x87m l\\xe1\\xba\\xa5y thi\\xe1\\xbb\\x83u_s\\xe1\\xbb\\x91 l\\xc3\\xa0m \\xc4\\x91\\xe1\\xba\\xa1i_di\\xe1\\xbb\\x87n nh\\xc6\\xb0 ku b\\xc3\\xbaa sang 1 s\\xe1\\xbb\\x91_l\\xc6\\xb0\\xe1\\xbb\\xa3ng \\xc4\\x91\\xc3\\xa1ng b\\xc3\\xa1o_\\xc4\\x91\\xe1\\xbb\\x99ng 2 t c\\xc3\\xb3 nh\\xe1\\xba\\xafc \\xc4\\x91\\xe1\\xba\\xbfn 3 th\\xc3\\xac v\\xe1\\xba\\xabn c\\xc3\\xb9ng \\xc4\\x91\\xe1\\xbb\\x81_t\\xc3\\xa0i \\xc4\\x91\\xc4\\xa9 v\\xc3\\xa0 b\\xc3\\xacnh_quy\\xe1\\xbb\\x81n nam_n\\xe1\\xbb\\xaf uh s\\xe1\\xbb\\xa3 qu\\xc3\\xa1 n\\xc3\\xaan k0 ch\\xe1\\xbb\\xadi_b\\xe1\\xbb\\x9bi th\\xc3\\xb4_t\\xe1\\xbb\\xa5c n\\xe1\\xbb\\xafa ngoan l\\xe1\\xba\\xafm nh\\xc3\\xb3c t\\xe1\\xbb\\xb3'\n",
            " b'ph\\xc3\\xb9_du ch\\xc3\\xb3 \\xc4\\x91\\xe1\\xbb\\xb1c nh\\xe1\\xbb\\x9b thi\\xe1\\xba\\xbfn k dnay cno d\\xc3\\xb9ng m\\xc4\\xa9_nh\\xc3\\xa2n ch\\xc3\\xb3 \\xc4\\x91\\xe1\\xba\\xa5y'\n",
            " b'c\\xc3\\xb4ng_t\\xe1\\xbb\\xad b\\xe1\\xba\\xa1c nhi\\xe1\\xbb\\x81u'\n",
            " b'tuong long pham s\\xc6\\xb0\\xe1\\xbb\\x9bng v\\xc3\\xa3i lol ra nh\\xc6\\xb0_th\\xe1\\xba\\xbf c\\xc3\\xb2n \\xc3\\xbd_ki\\xe1\\xba\\xbfn g\\xc3\\xac haha y\\xc3\\xaau c\\xe1\\xbb\\x99ng_s\\xe1\\xba\\xa3n qu\\xc3\\xa1'\n",
            " b'cafe ku b\\xc3\\xbaa g\\xc3\\xa1i bk ngon v\\xe1\\xbb\\x8b b\\xc3\\xban_ch\\xe1\\xba\\xa3'\n",
            " b'troi may tt c\\xc3\\xb3 g\\xc3\\xa2y chia_r\\xe1\\xba\\xbd \\xc4\\x91\\xc3\\xa2u tt v\\xe1\\xba\\xabn lu\\xc3\\xb4n khen_ng\\xe1\\xbb\\xa3i c\\xc3\\xa1c ban_ng\\xc3\\xa0nh \\xc4\\x91o\\xc3\\xa0n_th\\xe1\\xbb\\x83 \\xc4\\x91\\xc3\\xa3 h\\xe1\\xbb\\x97_tr\\xe1\\xbb\\xa3 nhi\\xe1\\xbb\\x87t_t\\xc3\\xacnh m\\xc3\\xa0 tt n\\xc3\\xb3i ch\\xe1\\xbb\\x89 g\\xc3\\xb3p m\\xe1\\xbb\\x99t ph\\xe1\\xba\\xa7n s\\xe1\\xbb\\xa9c cho b\\xc3\\xa0_con th\\xc3\\xb4i ch\\xe1\\xbb\\xa9 \\xc4\\x91a_ph\\xe1\\xba\\xa7n nh\\xc3\\xa0_n\\xc6\\xb0\\xe1\\xbb\\x9bc b\\xe1\\xbb\\x99_\\xc4\\x91\\xe1\\xbb\\x99i lo r\\xe1\\xbb\\x93i m\\xc3\\xa0 \\xc4\\x91\\xc3\\xbang l\\xc3\\xa0 nh\\xc6\\xb0_v\\xe1\\xba\\xady b\\xc3\\xaan qu\\xc3\\xa2n_\\xc4\\x91\\xe1\\xbb\\x99i b\\xe1\\xbb\\x8f c\\xc3\\xb4ng_s\\xe1\\xbb\\xa9c c\\xc5\\xa9ng nh\\xc6\\xb0 hy_sinh r\\xe1\\xba\\xa5t l\\xe1\\xbb\\x9bn \\xc4\\x91\\xc3\\xb3 l\\xc3\\xa0 \\xc4\\x91i\\xe1\\xbb\\x81u ko_th\\xe1\\xbb\\x83 b\\xc3\\xa0n c\\xe1\\xba\\xa3i m\\xc3\\xacnh ch\\xe1\\xbb\\x89 s\\xe1\\xbb\\xa3 \\xc4\\x91\\xc3\\xa2y l\\xc3\\xa0 \\xc3\\xa2m_m\\xc6\\xb0u b\\xe1\\xbb\\x8dn ph\\xe1\\xba\\xa3n_\\xc4\\x91\\xe1\\xbb\\x99ng g\\xc3\\xa2y chia r\\xe1\\xba\\xbb th\\xc3\\xb4i ch\\xe1\\xbb\\xa9 tt ko d\\xe1\\xba\\xa1i_g\\xc3\\xac m\\xc3\\xa0 g\\xc3\\xa2y chia r\\xe1\\xba\\xbb g\\xc3\\xac c\\xe1\\xba\\xa3'\n",
            " b'v\\xc6\\xb0\\xc6\\xa1ng ti\\xe1\\xbb\\x85n r\\xe1\\xbb\\x93i gi\\xe1\\xbb\\x9d ch\\xe1\\xba\\xbf_\\xc4\\x91\\xe1\\xbb\\x99 n\\xc3\\xa0y ch\\xe1\\xbb\\xabng n\\xc3\\xa0o s\\xe1\\xba\\xadp \\xc4\\x91\\xe1\\xbb\\x83 k\\xc3\\xaau g\\xc3\\xa1i b\\xe1\\xba\\xafc_k\\xe1\\xbb\\xb3 c\\xe1\\xbb\\xa9u'\n",
            " b'\\xc4\\x91\\xc3\\xa2u c\\xc3\\xb3 d\\xe1\\xbb\\x85 m\\xc3\\xa0 th\\xe1\\xba\\xafng \\xc4\\x91c t\\xe1\\xbb\\xab_t\\xe1\\xbb\\xab s\\xe1\\xba\\xbd bi\\xe1\\xba\\xbft b\\xe1\\xba\\xa1n \\xc6\\xa1i'\n",
            " b'cafe ku b\\xc3\\xbaa bi\\xe1\\xba\\xbft cha n\\xc3\\xb3 \\xc4\\x91\\xc3\\xa2u th\\xe1\\xba\\xb1ng h\\xe1\\xbb\\x81 n\\xc3\\xa0y c\\xe1\\xbb\\xa7ng ch\\xe1\\xbb\\x89 c\\xc3\\xb3 th\\xe1\\xba\\xbf'\n",
            " b'nguyen duc linh ai'\n",
            " b'cho n\\xc3\\xa3o_ch\\xc3\\xbang v\\xc3\\xa0o ng\\xc3\\xa2m r\\xc6\\xb0\\xe1\\xbb\\xa3u'\n",
            " b'th\\xe1\\xba\\xadm_ch\\xc3\\xad c\\xc3\\xb2n nhi\\xe1\\xbb\\x81u h\\xc6\\xa1n nh\\xc6\\xb0 v\\xe1\\xba\\xady'\n",
            " b'chu tu\\xe1\\xba\\xa5n fox news l\\xc3\\xa0 c\\xc3\\xa1nh ta h\\xe1\\xba\\xa3 h\\xe1\\xbb\\x8d c\\xc3\\xb4ng_b\\xe1\\xbb\\x91 trump th\\xe1\\xba\\xafng \\xc4\\x91\\xc3\\xb3'\n",
            " b'ph\\xc3\\xa1 r\\xe1\\xbb\\xabng l\\xc3\\xa3i 100 \\xc4\\x91\\xe1\\xbb\\x93ng quy\\xc3\\xaan_g\\xc3\\xb3p 5 \\xc4\\x91\\xe1\\xbb\\x93ng l\\xc3\\xa3i to kinh'\n",
            " b'cafe ku b\\xc3\\xbaa v\\xe1\\xba\\xady sao tag t\\xc3\\xaan tui th\\xc3\\xadch th\\xc3\\xac qua \\xc4\\x91\\xc3\\xb3 m\\xc3\\xa0 tag m\\xc3\\xa0 reply'\n",
            " b'nhat nguyen h\\xc3\\xacnh_nh\\xc6\\xb0 shark n\\xc3\\xa0o c\\xc5\\xa9ng c\\xc3\\xb3 qu\\xe1\\xbb\\x91c_t\\xe1\\xbb\\x8bch ngo\\xe1\\xba\\xa1i r\\xe1\\xbb\\x93i n\\xe1\\xba\\xbfu ch\\xc6\\xb0a th\\xc3\\xac chu\\xe1\\xba\\xa9n_b\\xe1\\xbb\\x8b'\n",
            " b'vk con anh \\xe1\\xba\\xa5y \\xc4\\x91\\xc3\\xa3 t\\xc3\\xacm dc thi\\xc3\\xaan_\\xc4\\x91\\xc6\\xb0\\xe1\\xbb\\x9dng cnxh n\\xc6\\xa1i m\\xc3\\xa0 ch\\xc3\\xbang_ta t\\xc3\\xacm_ki\\xe1\\xba\\xbfm b\\xe1\\xba\\xa5y_l\\xc3\\xa2u_nay'\n",
            " b'bang th\\xc3\\xa1nh d\\xc3\\xa2n th\\xe1\\xba\\xa5t_nghi\\xe1\\xbb\\x87p m\\xc3\\xa0 kt v\\xe1\\xba\\xabn ph\\xc3\\xa1t_tri\\xe1\\xbb\\x83n d\\xc6\\xb0\\xc6\\xa1ng m l\\xc3\\xa0m_vi\\xe1\\xbb\\x87c gi th\\xc3\\xac k\\xe1\\xbb\\x87 m \\xc4\\x91\\xc3\\xa3 gi\\xc3\\xbap dc gi cho ng\\xc6\\xb0\\xe1\\xbb\\x9di d\\xc3\\xa2n trong n\\xc6\\xb0\\xe1\\xbb\\x9bc \\xc4\\x91\\xc3\\xa2u t l\\xc3\\xa0m c\\xc3\\xb4ng_vi\\xe1\\xbb\\x87c m\\xc3\\xa0 t ch\\xe1\\xbb\\x8dn dc s\\xe1\\xbb\\x91ng \\xe1\\xbb\\x9f qu\\xc3\\xaa_h\\xc6\\xb0\\xc6\\xa1ng gia_\\xc4\\x91\\xc3\\xacnh t l\\xc3\\xa0 dc ch\\xe1\\xba\\xafc t c\\xe1\\xba\\xa7n so_\\xc4\\x91o v\\xe1\\xbb\\x9bi m l\\xe1\\xba\\xafm vn thi\\xe1\\xba\\xbfu ng\\xc6\\xb0\\xe1\\xbb\\x9di gi\\xc3\\xa0u \\xc4\\x91\\xe1\\xbb\\x83 t so_\\xc4\\x91o \\xc3\\xa0'\n",
            " b'v\\xe1\\xba\\xady ko n\\xc3\\xaan kh\\xc3\\xb3c cho 13 ng\\xc6\\xb0\\xe1\\xbb\\x9di h\\xe1\\xba\\xa3 th\\xe1\\xba\\xb1ng ml v'\n",
            " b'th\\xc6\\xb0\\xc6\\xa1ng b\\xc3\\xa1c ad n\\xe1\\xba\\xbfu c\\xc3\\xb3_th\\xe1\\xbb\\x83 cho xin s\\xe1\\xbb\\x91 tk c\\xe1\\xbb\\xa7a b\\xc3\\xa1c'\n",
            " b'may so sanh hoi khap khieng']\n",
            "label:  [1 1 1 1 1 0 0 1 1 1 1 1 1 0 0 1 1 1 0 1 1 1 0 1 0 0 0 1 0 1 0 0 0 0 1 1 0\n",
            " 0 0 0 1 0 0 1 0 1 1 1 0 1 1 1 1 0 1 1 1 1 1 1 1 1 0 1]\n"
          ],
          "name": "stdout"
        }
      ]
    },
    {
      "cell_type": "code",
      "metadata": {
        "colab": {
          "base_uri": "https://localhost:8080/"
        },
        "id": "RVe4VmkzR6pk",
        "outputId": "042764e8-f191-4471-b2a9-20d4cdd4456b"
      },
      "source": [
        "BUFFER_SIZE = 10000\n",
        "BATCH_SIZE = 64\n",
        "train_dataset = train_dataset.shuffle(BUFFER_SIZE).batch(BATCH_SIZE).prefetch(tf.data.experimental.AUTOTUNE)\n",
        "test_dataset = test_dataset.batch(BATCH_SIZE).prefetch(tf.data.experimental.AUTOTUNE)\n",
        "for example, label in train_dataset.take(1):\n",
        "  print('texts: ', example.numpy()[:3])\n",
        "  print()\n",
        "  print('labels: ', label.numpy()[:3])"
      ],
      "execution_count": null,
      "outputs": [
        {
          "output_type": "stream",
          "text": [
            "texts:  [b'd\\xe1\\xba\\xa1 v\\xc3\\xa2ng trong khi c\\xc3\\xa1n_b\\xe1\\xbb\\x99 l\\xc3\\xa0 ng\\xc6\\xb0\\xe1\\xbb\\x9di ch\\xe1\\xba\\xb7t ph\\xc3\\xa1 r\\xe1\\xbb\\xabng \\xc4\\x91\\xe1\\xbb\\x83 l\\xc3\\xa0m_b\\xe1\\xbb\\x99 b\\xc3\\xa0n_gh\\xe1\\xba\\xbf chanh s\\xe1\\xba\\xa3 trong nh\\xc3\\xa0 l\\xc5\\xa9 \\xc4\\x91\\xe1\\xba\\xbfn th\\xc3\\xac \\xc3\\xb9a 13 can b\\xe1\\xbb\\x99 ra \\xc4\\x91\\xe1\\xbb\\x83 kh\\xc3\\xb3c th\\xc6\\xb0\\xc6\\xa1ng c\\xc3\\xb2n d\\xc3\\xa2n th\\xc3\\xac tr\\xc3\\xb4i c\\xe1\\xba\\xa3 nh\\xc3\\xa0 l\\xe1\\xba\\xabn x\\xc3\\xa1c v\\xe1\\xba\\xabn m\\xc3\\xa9o c\\xc3\\xb3 th\\xe1\\xba\\xb1ng c\\xc3\\xa1n_b\\xe1\\xbb\\x99 n\\xc3\\xa0o l\\xc3\\xaan ti\\xe1\\xba\\xbfng'\n",
            " b'ku b\\xc3\\xbaa s\\xe1\\xba\\xbd bi\\xe1\\xbb\\x83u_t\\xc3\\xacnh \\xc4\\x91\\xe1\\xbb\\x83 \\xc4\\x91\\xc3\\xb2i gi\\xe1\\xba\\xa3m thu\\xe1\\xba\\xbf v\\xc3\\xa0 t\\xc4\\x83ng ph\\xc3\\xbac_l\\xe1\\xbb\\xa3i cho g\\xc3\\xa1i b\\xe1\\xba\\xafc_k\\xe1\\xbb\\xb3 xinh \\xc4\\x91\\xc3\\xb3 l\\xc3\\xa0 l\\xc3\\xbd_do ch\\xc3\\xadnh_\\xc4\\x91\\xc3\\xa1ng duy_nh\\xe1\\xba\\xa5t g\\xc3\\xa1i b\\xe1\\xba\\xafc_k\\xe1\\xbb\\xb3 ngon b\\xc3\\xa0 c\\xe1\\xbb\\x91'\n",
            " b't\\xc3\\xb2ng thanh 16 t\\xc3\\xa2 n va ng ti nh \\xc4\\x91\\xc3\\xaa n th\\xc6\\xa1 i gia hi\\xc3\\xaa n ta i cu ng \\xc4\\x91 e o \\xc4\\x91\\xc6\\xb0\\xc6\\xa1 c 1 ty usd']\n",
            "\n",
            "labels:  [1 1 1]\n"
          ],
          "name": "stdout"
        }
      ]
    },
    {
      "cell_type": "code",
      "metadata": {
        "colab": {
          "base_uri": "https://localhost:8080/"
        },
        "id": "vA7p7pDnPGyF",
        "outputId": "bb642bba-93bd-4928-e88d-dc2d9a498d3b"
      },
      "source": [
        "import numpy as np\n",
        "VOCAB_SIZE=1000\n",
        "encoder = tf.keras.layers.experimental.preprocessing.TextVectorization(\n",
        "    max_tokens=VOCAB_SIZE)\n",
        "encoder.adapt(train_dataset.map(lambda text, label: text))\n",
        "vocab = np.array(encoder.get_vocabulary())\n",
        "vocab[:20]"
      ],
      "execution_count": null,
      "outputs": [
        {
          "output_type": "execute_result",
          "data": {
            "text/plain": [
              "array(['', '[UNK]', 'là', 'có', 'thì', 'không', 'mà', 'ng', 'i', 'của',\n",
              "       'cho', 'và', 'đi', 'người', 'cũng', 'làm', 'gì', 'ko', 'cái',\n",
              "       'như'], dtype='<U13')"
            ]
          },
          "metadata": {
            "tags": []
          },
          "execution_count": 17
        }
      ]
    },
    {
      "cell_type": "code",
      "metadata": {
        "colab": {
          "base_uri": "https://localhost:8080/"
        },
        "id": "B-i6mwxESYyl",
        "outputId": "b2c39994-95ce-4581-cc2a-9c8631878ad7"
      },
      "source": [
        "encoded_example = encoder(example)[:3].numpy()\n",
        "encoded_example"
      ],
      "execution_count": null,
      "outputs": [
        {
          "output_type": "execute_result",
          "data": {
            "text/plain": [
              "array([[  1,   1,  44,  65, 542,   2,  13, 844, 714, 433,  26,   1,   1,\n",
              "          1,   1,  44,  93, 125,  92,   4,   1,   1,   1, 616,  24,  26,\n",
              "        815, 314,  23,  38,   4,   1,  96,  93,   1,   1, 105,   1,   3,\n",
              "         78, 542,  41, 101, 378,   0,   0,   0,   0,   0,   0,   0,   0,\n",
              "          0,   0,   0,   0,   0,   0,   0,   0,   0,   0,   0,   0,   0,\n",
              "          0,   0,   0,   0,   0,   0,   0,   0,   0,   0,   0,   0,   0,\n",
              "          0,   0,   0,   0,   0,   0,   0,   0,   0,   0,   0,   0,   0,\n",
              "          0,   0,   0,   0,   0,   0,   0,   0,   0,   0,   0,   0,   0,\n",
              "          0,   0,   0,   0,   0,   0,   0,   0,   0,   0,   0,   0,   0,\n",
              "          0,   0,   0,   0,   0,   0,   0,   0,   0,   0,   0,   0,   0,\n",
              "          0,   0,   0,   0,   0,   0,   0],\n",
              "       [ 36,  20,  89, 339,  26, 390, 665, 198,  11, 534,   1,  10,  90,\n",
              "        107, 552,  27,   2, 774,   1,   1,  90, 107, 166, 182, 189,   0,\n",
              "          0,   0,   0,   0,   0,   0,   0,   0,   0,   0,   0,   0,   0,\n",
              "          0,   0,   0,   0,   0,   0,   0,   0,   0,   0,   0,   0,   0,\n",
              "          0,   0,   0,   0,   0,   0,   0,   0,   0,   0,   0,   0,   0,\n",
              "          0,   0,   0,   0,   0,   0,   0,   0,   0,   0,   0,   0,   0,\n",
              "          0,   0,   0,   0,   0,   0,   0,   0,   0,   0,   0,   0,   0,\n",
              "          0,   0,   0,   0,   0,   0,   0,   0,   0,   0,   0,   0,   0,\n",
              "          0,   0,   0,   0,   0,   0,   0,   0,   0,   0,   0,   0,   0,\n",
              "          0,   0,   0,   0,   0,   0,   0,   0,   0,   0,   0,   0,   0,\n",
              "          0,   0,   0,   0,   0,   0,   0],\n",
              "       [  1, 458,   1,   1,  33, 112,   7, 587, 114, 492,  33,   1,   8,\n",
              "        334,   1,  33, 115,   8, 141,   7, 670, 269,  55,   1,  39,  47,\n",
              "          1,   1,   0,   0,   0,   0,   0,   0,   0,   0,   0,   0,   0,\n",
              "          0,   0,   0,   0,   0,   0,   0,   0,   0,   0,   0,   0,   0,\n",
              "          0,   0,   0,   0,   0,   0,   0,   0,   0,   0,   0,   0,   0,\n",
              "          0,   0,   0,   0,   0,   0,   0,   0,   0,   0,   0,   0,   0,\n",
              "          0,   0,   0,   0,   0,   0,   0,   0,   0,   0,   0,   0,   0,\n",
              "          0,   0,   0,   0,   0,   0,   0,   0,   0,   0,   0,   0,   0,\n",
              "          0,   0,   0,   0,   0,   0,   0,   0,   0,   0,   0,   0,   0,\n",
              "          0,   0,   0,   0,   0,   0,   0,   0,   0,   0,   0,   0,   0,\n",
              "          0,   0,   0,   0,   0,   0,   0]])"
            ]
          },
          "metadata": {
            "tags": []
          },
          "execution_count": 18
        }
      ]
    },
    {
      "cell_type": "code",
      "metadata": {
        "id": "CsMmHZKpmsRv"
      },
      "source": [
        "model = tf.keras.Sequential([\n",
        "    encoder,\n",
        "    tf.keras.layers.Embedding(\n",
        "        input_dim=len(encoder.get_vocabulary()),\n",
        "        output_dim=64,\n",
        "        # Use masking to handle the variable sequence lengths\n",
        "        mask_zero=True),\n",
        "    tf.keras.layers.Bidirectional(tf.keras.layers.LSTM(64)),\n",
        "    tf.keras.layers.Dense(64, activation='relu'),\n",
        "    tf.keras.layers.Dense(1, activation='sigmoid')\n",
        "])\n",
        "model.compile(loss=tf.keras.losses.BinaryCrossentropy(from_logits=True),\n",
        "              optimizer=tf.keras.optimizers.Adam(1e-4),\n",
        "              metrics=['accuracy'])\n"
      ],
      "execution_count": null,
      "outputs": []
    },
    {
      "cell_type": "code",
      "metadata": {
        "colab": {
          "base_uri": "https://localhost:8080/"
        },
        "id": "kh1o0t9gm283",
        "outputId": "3932db5e-e86e-45cd-9461-6bdf160b6694"
      },
      "source": [
        "history = model.fit(train_dataset, epochs=10,\n",
        "                    validation_data=test_dataset, \n",
        "                    validation_steps=30)"
      ],
      "execution_count": null,
      "outputs": [
        {
          "output_type": "stream",
          "text": [
            "Epoch 1/10\n",
            "126/126 [==============================] - 14s 52ms/step - loss: 0.6844 - accuracy: 0.5612 - val_loss: 0.6340 - val_accuracy: 0.6083\n",
            "Epoch 2/10\n",
            "126/126 [==============================] - 4s 32ms/step - loss: 0.6248 - accuracy: 0.6127 - val_loss: 0.5719 - val_accuracy: 0.6964\n",
            "Epoch 3/10\n",
            "126/126 [==============================] - 4s 34ms/step - loss: 0.5272 - accuracy: 0.7551 - val_loss: 0.4461 - val_accuracy: 0.8198\n",
            "Epoch 4/10\n",
            "126/126 [==============================] - 4s 34ms/step - loss: 0.3921 - accuracy: 0.8435 - val_loss: 0.4003 - val_accuracy: 0.8203\n",
            "Epoch 5/10\n",
            "126/126 [==============================] - 5s 36ms/step - loss: 0.3433 - accuracy: 0.8538 - val_loss: 0.4336 - val_accuracy: 0.8182\n",
            "Epoch 6/10\n",
            "126/126 [==============================] - 4s 32ms/step - loss: 0.3161 - accuracy: 0.8630 - val_loss: 0.4219 - val_accuracy: 0.8193\n",
            "Epoch 7/10\n",
            "126/126 [==============================] - 4s 35ms/step - loss: 0.3109 - accuracy: 0.8654 - val_loss: 0.4174 - val_accuracy: 0.8224\n",
            "Epoch 8/10\n",
            "126/126 [==============================] - 4s 34ms/step - loss: 0.2918 - accuracy: 0.8700 - val_loss: 0.4049 - val_accuracy: 0.8198\n",
            "Epoch 9/10\n",
            "126/126 [==============================] - 4s 32ms/step - loss: 0.2925 - accuracy: 0.8745 - val_loss: 0.4133 - val_accuracy: 0.8198\n",
            "Epoch 10/10\n",
            "126/126 [==============================] - 4s 33ms/step - loss: 0.2741 - accuracy: 0.8819 - val_loss: 0.4139 - val_accuracy: 0.8177\n"
          ],
          "name": "stdout"
        }
      ]
    },
    {
      "cell_type": "code",
      "metadata": {
        "colab": {
          "base_uri": "https://localhost:8080/",
          "height": 284
        },
        "id": "vB9O74IRrWrJ",
        "outputId": "dd9240de-c02b-40d5-e3f4-7af7c2906ac6"
      },
      "source": [
        "losses = pd.DataFrame(model.history.history)\n",
        "losses.plot()"
      ],
      "execution_count": null,
      "outputs": [
        {
          "output_type": "execute_result",
          "data": {
            "text/plain": [
              "<matplotlib.axes._subplots.AxesSubplot at 0x7fb84fd0a9b0>"
            ]
          },
          "metadata": {
            "tags": []
          },
          "execution_count": 42
        },
        {
          "output_type": "display_data",
          "data": {
            "image/png": "[encoded data removed]",
            "text/plain": [
              "<Figure size 432x288 with 1 Axes>"
            ]
          },
          "metadata": {
            "tags": [],
            "needs_background": "light"
          }
        }
      ]
    },
    {
      "cell_type": "code",
      "metadata": {
        "colab": {
          "base_uri": "https://localhost:8080/"
        },
        "id": "-m-vINLPU49Q",
        "outputId": "9bd4c132-3803-429a-c3e3-f0ab05a725c1"
      },
      "source": [
        "# DỰ đoán: 0.5: phản động\n",
        "sample_text = ('Nhà_nước việt_nam tuyệt_vời')\n",
        "predictions = model.predict(np.array([sample_text]))\n",
        "print(predictions)"
      ],
      "execution_count": null,
      "outputs": [
        {
          "output_type": "stream",
          "text": [
            "[[0.3607284]]\n"
          ],
          "name": "stdout"
        }
      ]
    },
    {
      "cell_type": "code",
      "metadata": {
        "colab": {
          "base_uri": "https://localhost:8080/"
        },
        "id": "JIfMdX0YWC5v",
        "outputId": "bd65fdd5-95f1-4a96-a250-0cfe60c5cbf3"
      },
      "source": [
        "sample_text = ('tôi yêu quê hương tôi')\n",
        "predictions = model.predict(np.array([sample_text]))\n",
        "print(predictions)"
      ],
      "execution_count": null,
      "outputs": [
        {
          "output_type": "stream",
          "text": [
            "[[0.15605249]]\n"
          ],
          "name": "stdout"
        }
      ]
    },
    {
      "cell_type": "code",
      "metadata": {
        "colab": {
          "base_uri": "https://localhost:8080/"
        },
        "id": "EbnxspbJVUvt",
        "outputId": "aee562d1-6751-4983-8fe6-f2970e0e872b"
      },
      "source": [
        "sample_text = ('Cộng_sản bán nước hại dân')\n",
        "predictions = model.predict(np.array([sample_text]))\n",
        "print(predictions)"
      ],
      "execution_count": null,
      "outputs": [
        {
          "output_type": "stream",
          "text": [
            "[[0.8303632]]\n"
          ],
          "name": "stdout"
        }
      ]
    },
    {
      "cell_type": "code",
      "metadata": {
        "colab": {
          "base_uri": "https://localhost:8080/"
        },
        "id": "uRZuxs4EWS41",
        "outputId": "2f883b73-8cad-4fb9-f0ca-d321a9998565"
      },
      "source": [
        "sample_text = ('lãnh đạo ăn thuế của dân ra nước ngoài sống chỉ khổ dân chúng sống dưới chế độ tàn ác')\n",
        "predictions = model.predict(np.array([sample_text]))\n",
        "print(predictions)"
      ],
      "execution_count": null,
      "outputs": [
        {
          "output_type": "stream",
          "text": [
            "[[0.9935022]]\n"
          ],
          "name": "stdout"
        }
      ]
    },
    {
      "cell_type": "code",
      "metadata": {
        "colab": {
          "base_uri": "https://localhost:8080/"
        },
        "id": "kUM5OrugWe0A",
        "outputId": "00af9151-c66a-4b21-e01e-a517da588bf9"
      },
      "source": [
        "sample_text = ('hôm qua tôi vừa đi ăn về nhặt được 1 nghìn đô gửi lại anh cán bộ rất tốt đã trả người mất')\n",
        "predictions = model.predict(np.array([sample_text]))\n",
        "print(predictions)"
      ],
      "execution_count": null,
      "outputs": [
        {
          "output_type": "stream",
          "text": [
            "[[0.07526772]]\n"
          ],
          "name": "stdout"
        }
      ]
    },
    {
      "cell_type": "code",
      "metadata": {
        "colab": {
          "base_uri": "https://localhost:8080/"
        },
        "id": "NolUHf3OXUTR",
        "outputId": "1e2f614c-08b9-49d0-c5a3-ff2bac19620a"
      },
      "source": [
        "sample_text = ('việt nam gia nhập hd thương mại tự do eu, kinh tế phát triển vững vàng')\n",
        "predictions = model.predict(np.array([sample_text]))\n",
        "print(predictions)"
      ],
      "execution_count": null,
      "outputs": [
        {
          "output_type": "stream",
          "text": [
            "[[0.26524732]]\n"
          ],
          "name": "stdout"
        }
      ]
    },
    {
      "cell_type": "code",
      "metadata": {
        "colab": {
          "base_uri": "https://localhost:8080/"
        },
        "id": "jRE-iai2YsYu",
        "outputId": "4e92f815-6382-4ef6-da29-f313229bcff6"
      },
      "source": [
        "sample_text = ('hà nội tuyệt đẹp trong tôi')\n",
        "predictions = model.predict(np.array([sample_text]))\n",
        "print(predictions)"
      ],
      "execution_count": null,
      "outputs": [
        {
          "output_type": "stream",
          "text": [
            "[[0.21882296]]\n"
          ],
          "name": "stdout"
        }
      ]
    }
  ]
}